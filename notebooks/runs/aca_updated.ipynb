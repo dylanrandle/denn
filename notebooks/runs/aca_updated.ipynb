{
 "cells": [
  {
   "cell_type": "code",
   "execution_count": 1,
   "metadata": {},
   "outputs": [],
   "source": [
    "import numpy as np\n",
    "import matplotlib.pyplot as plt\n",
    "import torch"
   ]
  },
  {
   "cell_type": "code",
   "execution_count": 2,
   "metadata": {},
   "outputs": [],
   "source": [
    "tpi = torch.tensor(np.pi)"
   ]
  },
  {
   "cell_type": "code",
   "execution_count": 3,
   "metadata": {},
   "outputs": [],
   "source": [
    "def anal_sol(x, y):\n",
    "    return torch.sin(tpi*y) * torch.sinh(tpi*(1-x)) / torch.sinh(tpi)"
   ]
  },
  {
   "cell_type": "code",
   "execution_count": 4,
   "metadata": {},
   "outputs": [],
   "source": [
    "x = torch.linspace(0, 1, 32)\n",
    "y = torch.linspace(0, 1, 32)\n",
    "xx, yy = torch.meshgrid(x, y)"
   ]
  },
  {
   "cell_type": "code",
   "execution_count": 5,
   "metadata": {},
   "outputs": [
    {
     "data": {
      "text/plain": [
       "tensor([[0.0000, 0.0000, 0.0000,  ..., 0.0000, 0.0000, 0.0000],\n",
       "        [0.0323, 0.0323, 0.0323,  ..., 0.0323, 0.0323, 0.0323],\n",
       "        [0.0645, 0.0645, 0.0645,  ..., 0.0645, 0.0645, 0.0645],\n",
       "        ...,\n",
       "        [0.9355, 0.9355, 0.9355,  ..., 0.9355, 0.9355, 0.9355],\n",
       "        [0.9677, 0.9677, 0.9677,  ..., 0.9677, 0.9677, 0.9677],\n",
       "        [1.0000, 1.0000, 1.0000,  ..., 1.0000, 1.0000, 1.0000]])"
      ]
     },
     "execution_count": 5,
     "metadata": {},
     "output_type": "execute_result"
    }
   ],
   "source": [
    "xx"
   ]
  },
  {
   "cell_type": "code",
   "execution_count": 6,
   "metadata": {},
   "outputs": [],
   "source": [
    "x = xx.flatten()\n",
    "y = yy.flatten()"
   ]
  },
  {
   "cell_type": "code",
   "execution_count": 32,
   "metadata": {},
   "outputs": [],
   "source": [
    "grid = torch.cat((x.reshape(-1,1), y.reshape(-1,1)), axis=0)"
   ]
  },
  {
   "cell_type": "code",
   "execution_count": 7,
   "metadata": {},
   "outputs": [],
   "source": [
    "anal = anal_sol(x, y)"
   ]
  },
  {
   "cell_type": "code",
   "execution_count": 8,
   "metadata": {},
   "outputs": [
    {
     "data": {
      "text/plain": [
       "torch.Size([1024])"
      ]
     },
     "execution_count": 8,
     "metadata": {},
     "output_type": "execute_result"
    }
   ],
   "source": [
    "anal.shape"
   ]
  },
  {
   "cell_type": "code",
   "execution_count": 9,
   "metadata": {},
   "outputs": [
    {
     "data": {
      "text/plain": [
       "(torch.Size([1024]), torch.Size([1024]))"
      ]
     },
     "execution_count": 9,
     "metadata": {},
     "output_type": "execute_result"
    }
   ],
   "source": [
    "x.shape, y.shape"
   ]
  },
  {
   "cell_type": "code",
   "execution_count": 10,
   "metadata": {},
   "outputs": [
    {
     "data": {
      "text/plain": [
       "torch.Size([32, 32])"
      ]
     },
     "execution_count": 10,
     "metadata": {},
     "output_type": "execute_result"
    }
   ],
   "source": [
    "xx.shape"
   ]
  },
  {
   "cell_type": "code",
   "execution_count": 13,
   "metadata": {},
   "outputs": [
    {
     "data": {
      "text/plain": [
       "<matplotlib.contour.QuadContourSet at 0x12a9a1ef0>"
      ]
     },
     "execution_count": 13,
     "metadata": {},
     "output_type": "execute_result"
    },
    {
     "data": {
      "image/png": "[encoded data removed]",
      "text/plain": [
       "<Figure size 432x288 with 1 Axes>"
      ]
     },
     "metadata": {
      "needs_background": "light"
     },
     "output_type": "display_data"
    }
   ],
   "source": [
    "plt.contourf(xx, yy, anal.reshape(32,32), cmap=\"Reds\")"
   ]
  },
  {
   "cell_type": "code",
   "execution_count": 36,
   "metadata": {},
   "outputs": [],
   "source": [
    "topdir = \"/Users/dylanrandle/Documents/Harvard/research/denn/experiments/runs/POS_run_test/\""
   ]
  },
  {
   "cell_type": "code",
   "execution_count": 37,
   "metadata": {},
   "outputs": [],
   "source": [
    "uhat = np.load(topdir+\"$\\hat{u}$_pred.npy\")"
   ]
  },
  {
   "cell_type": "code",
   "execution_count": 38,
   "metadata": {},
   "outputs": [
    {
     "data": {
      "text/plain": [
       "(1024, 1)"
      ]
     },
     "execution_count": 38,
     "metadata": {},
     "output_type": "execute_result"
    }
   ],
   "source": [
    "uhat.shape"
   ]
  },
  {
   "cell_type": "code",
   "execution_count": 39,
   "metadata": {},
   "outputs": [],
   "source": [
    "grid = np.load(topdir+\"grid.npy\")"
   ]
  },
  {
   "cell_type": "code",
   "execution_count": 40,
   "metadata": {},
   "outputs": [
    {
     "data": {
      "text/plain": [
       "(1024, 2)"
      ]
     },
     "execution_count": 40,
     "metadata": {},
     "output_type": "execute_result"
    }
   ],
   "source": [
    "grid.shape"
   ]
  },
  {
   "cell_type": "code",
   "execution_count": 41,
   "metadata": {},
   "outputs": [],
   "source": [
    "sol = np.load(topdir+\"$u$_pred.npy\")"
   ]
  },
  {
   "cell_type": "code",
   "execution_count": 42,
   "metadata": {},
   "outputs": [],
   "source": [
    "uhat = uhat.reshape(32,32)"
   ]
  },
  {
   "cell_type": "code",
   "execution_count": 43,
   "metadata": {},
   "outputs": [],
   "source": [
    "sol = sol.reshape(32,32)"
   ]
  },
  {
   "cell_type": "code",
   "execution_count": 44,
   "metadata": {},
   "outputs": [
    {
     "data": {
      "text/plain": [
       "0.067925476"
      ]
     },
     "execution_count": 44,
     "metadata": {},
     "output_type": "execute_result"
    }
   ],
   "source": [
    "np.mean((uhat - sol.T)**2)"
   ]
  },
  {
   "cell_type": "code",
   "execution_count": 45,
   "metadata": {},
   "outputs": [
    {
     "data": {
      "text/plain": [
       "<matplotlib.contour.QuadContourSet at 0x12ad17b70>"
      ]
     },
     "execution_count": 45,
     "metadata": {},
     "output_type": "execute_result"
    },
    {
     "data": {
      "image/png": "[encoded data removed]",
      "text/plain": [
       "<Figure size 432x288 with 1 Axes>"
      ]
     },
     "metadata": {
      "needs_background": "light"
     },
     "output_type": "display_data"
    }
   ],
   "source": [
    "plt.contourf(xx, yy, uhat)"
   ]
  },
  {
   "cell_type": "code",
   "execution_count": 46,
   "metadata": {},
   "outputs": [
    {
     "data": {
      "text/plain": [
       "<matplotlib.contour.QuadContourSet at 0x12a692b70>"
      ]
     },
     "execution_count": 46,
     "metadata": {},
     "output_type": "execute_result"
    },
    {
     "data": {
      "image/png": "[encoded data removed]",
      "text/plain": [
       "<Figure size 432x288 with 1 Axes>"
      ]
     },
     "metadata": {
      "needs_background": "light"
     },
     "output_type": "display_data"
    }
   ],
   "source": [
    "plt.contourf(xx, yy, sol)"
   ]
  },
  {
   "cell_type": "code",
   "execution_count": 47,
   "metadata": {},
   "outputs": [
    {
     "data": {
      "text/plain": [
       "array([0., 0., 0., 0., 0., 0., 0., 0., 0., 0., 0., 0., 0., 0., 0., 0., 0.,\n",
       "       0., 0., 0., 0., 0., 0., 0., 0., 0., 0., 0., 0., 0., 0., 0.],\n",
       "      dtype=float32)"
      ]
     },
     "execution_count": 47,
     "metadata": {},
     "output_type": "execute_result"
    }
   ],
   "source": [
    "uhat[0, :]"
   ]
  },
  {
   "cell_type": "code",
   "execution_count": 48,
   "metadata": {},
   "outputs": [
    {
     "data": {
      "text/plain": [
       "<matplotlib.legend.Legend at 0x12ad8d358>"
      ]
     },
     "execution_count": 48,
     "metadata": {},
     "output_type": "execute_result"
    },
    {
     "data": {
      "image/png": "[encoded data removed]",
      "text/plain": [
       "<Figure size 432x288 with 1 Axes>"
      ]
     },
     "metadata": {
      "needs_background": "light"
     },
     "output_type": "display_data"
    }
   ],
   "source": [
    "plt.plot(uhat[0,:], label='x=0')\n",
    "plt.plot(uhat[-1,:], label='x=1')\n",
    "plt.plot(uhat[:,0], label='y=0')\n",
    "plt.plot(uhat[:,-1], label='y=1')\n",
    "plt.legend()\n",
    "# plt.yscale('log')"
   ]
  },
  {
   "cell_type": "code",
   "execution_count": 49,
   "metadata": {},
   "outputs": [
    {
     "data": {
      "text/plain": [
       "array([0., 0., 0., 0., 0., 0., 0., 0., 0., 0., 0., 0., 0., 0., 0., 0., 0.,\n",
       "       0., 0., 0., 0., 0., 0., 0., 0., 0., 0., 0., 0., 0., 0., 0.],\n",
       "      dtype=float32)"
      ]
     },
     "execution_count": 49,
     "metadata": {},
     "output_type": "execute_result"
    }
   ],
   "source": [
    "uhat[-1, :]"
   ]
  },
  {
   "cell_type": "code",
   "execution_count": 50,
   "metadata": {},
   "outputs": [
    {
     "data": {
      "text/plain": [
       "array([0., 0., 0., 0., 0., 0., 0., 0., 0., 0., 0., 0., 0., 0., 0., 0., 0.,\n",
       "       0., 0., 0., 0., 0., 0., 0., 0., 0., 0., 0., 0., 0., 0., 0.],\n",
       "      dtype=float32)"
      ]
     },
     "execution_count": 50,
     "metadata": {},
     "output_type": "execute_result"
    }
   ],
   "source": [
    "uhat[:, -1]"
   ]
  },
  {
   "cell_type": "code",
   "execution_count": 51,
   "metadata": {},
   "outputs": [
    {
     "data": {
      "text/plain": [
       "<matplotlib.legend.Legend at 0x12ae40748>"
      ]
     },
     "execution_count": 51,
     "metadata": {},
     "output_type": "execute_result"
    },
    {
     "data": {
      "image/png": "[encoded data removed]",
      "text/plain": [
       "<Figure size 432x288 with 1 Axes>"
      ]
     },
     "metadata": {
      "needs_background": "light"
     },
     "output_type": "display_data"
    }
   ],
   "source": [
    "plt.plot(uhat[:,-1], label='y=1')\n",
    "plt.plot(uhat[:,0], label='y=0')\n",
    "plt.legend()"
   ]
  },
  {
   "cell_type": "code",
   "execution_count": 52,
   "metadata": {},
   "outputs": [
    {
     "data": {
      "text/plain": [
       "array([0., 0., 0., 0., 0., 0., 0., 0., 0., 0., 0., 0., 0., 0., 0., 0., 0.,\n",
       "       0., 0., 0., 0., 0., 0., 0., 0., 0., 0., 0., 0., 0., 0., 0.],\n",
       "      dtype=float32)"
      ]
     },
     "execution_count": 52,
     "metadata": {},
     "output_type": "execute_result"
    }
   ],
   "source": [
    "uhat[:, 0]"
   ]
  },
  {
   "cell_type": "markdown",
   "metadata": {},
   "source": [
    "# Rand reps, model init fixed"
   ]
  },
  {
   "cell_type": "code",
   "execution_count": 2,
   "metadata": {},
   "outputs": [],
   "source": [
    "import sys\n",
    "sys.path.append('../../')\n",
    "\n",
    "import denn.utils as ut"
   ]
  },
  {
   "cell_type": "code",
   "execution_count": 2,
   "metadata": {},
   "outputs": [],
   "source": [
    "# folder = lambda i: f\"/Users/dylanrandle/Downloads/POS_run_gan_053020_seed{i}/val_mse.npy\"\n",
    "# gan_reps = []\n",
    "# for i in range(5):\n",
    "#     gan_reps.append(np.load(folder(i)))\n",
    "# gan_reps = np.vstack(gan_reps)"
   ]
  },
  {
   "cell_type": "code",
   "execution_count": 7,
   "metadata": {},
   "outputs": [],
   "source": [
    "# gan_reps = np.load('/Users/dylanrandle/Downloads/pos_reps_052620_gan.npy')\n",
    "\n",
    "gan_reps = np.load('C:/Users/Blake Bullwinkel/Documents/Harvard/denn/experiments/reps/aca/aca_rand_reps_gan.npy')\n",
    "kept_runs = [3,5,6,9]\n",
    "gan_reps = gan_reps[kept_runs, :]\n",
    "\n",
    "# l2_reps = np.load('C:/Users/Blake Bullwinkel/Documents/Harvard/denn/experiments/reps/pos/pos_rand_reps_L2.npy')\n",
    "\n",
    "# l1_reps = np.load('C:/Users/Blake Bullwinkel/Documents/Harvard/denn/experiments/reps/pos/pos_rand_reps_L1.npy')\n",
    "\n",
    "# huber_reps = np.load('C:/Users/Blake Bullwinkel/Documents/Harvard/denn/experiments/reps/pos/pos_rand_reps_huber.npy')"
   ]
  },
  {
   "cell_type": "code",
   "execution_count": 8,
   "metadata": {},
   "outputs": [
    {
     "data": {
      "image/png": "[encoded data removed]",
      "text/plain": [
       "<Figure size 720x432 with 1 Axes>"
      ]
     },
     "metadata": {
      "needs_background": "light"
     },
     "output_type": "display_data"
    }
   ],
   "source": [
    "arrs_dict = {\"GAN\": gan_reps, \n",
    "             #\"$L_2$\": l2_reps,\n",
    "             #\"$L_1$\": l1_reps, \n",
    "             #\"Huber\": huber_reps,\n",
    "#              \"RK4\": mse*np.ones_like(huber_reps)\n",
    "            }\n",
    "ut.plot_reps_results(arrs_dict, fname=None,\n",
    "                     window=50, figsize=(10,6), pctiles=(25,75), linewidth=4)"
   ]
  },
  {
   "cell_type": "code",
   "execution_count": 9,
   "metadata": {},
   "outputs": [
    {
     "name": "stdout",
     "output_type": "stream",
     "text": [
      "GAN Min: 0.005899234556001427\n"
     ]
    }
   ],
   "source": [
    "# print(f\"L1 Min: {np.min(l1_reps)}\")\n",
    "# print(f\"L2 Min: {np.min(l2_reps)}\")\n",
    "# print(f\"Huber Min: {np.min(huber_reps)}\")\n",
    "print(f\"GAN Min: {np.min(gan_reps)}\")"
   ]
  },
  {
   "cell_type": "markdown",
   "metadata": {},
   "source": [
    "# Finite Diff"
   ]
  },
  {
   "cell_type": "code",
   "execution_count": 15,
   "metadata": {},
   "outputs": [
    {
     "data": {
      "image/png": "[encoded data removed]",
      "text/plain": [
       "<Figure size 432x288 with 1 Axes>"
      ]
     },
     "metadata": {
      "needs_background": "light"
     },
     "output_type": "display_data"
    }
   ],
   "source": [
    "\n",
    "from scipy import sparse\n",
    "from scipy.sparse.linalg import spsolve\n",
    "import numpy as np\n",
    "\n",
    "from mpl_toolkits.mplot3d import Axes3D\n",
    "import matplotlib.pyplot as plt\n",
    "from matplotlib import cm\n",
    "\n",
    "\n",
    "# def rhs_func(x, y, M):\n",
    "#     ###----- Element-wise multiplication -----###\n",
    "#     g = (20 * np.multiply(np.cos(3*np.pi*X[1:-1,1:-1]), np.sin(2*np.pi*Y[1:-1,1:-1]))).flatten()\n",
    "#     f = [g[i::M-2] for i in range(M-2)] # Extracts only the inner values\n",
    "#     f = np.asarray(f).flatten() # Flattens into a ((M-2)**2, ) array\n",
    "#     return f\n",
    "\n",
    "def rhs_func(x, y, M):\n",
    "    ###----- Element-wise multiplication -----###\n",
    "    x, y = X[1:-1,1:-1], Y[1:-1,1:-1]\n",
    "    g = -(2*x*(y-1)*(y - 2*x + x*y + 2)*np.exp(x-y)).flatten()\n",
    "    f = [g[i::M-2] for i in range(M-2)] # Extracts only the inner values\n",
    "    f = np.asarray(f).flatten() # Flattens into a ((M-2)**2, ) array\n",
    "    return f\n",
    "\n",
    "\n",
    "def bc_dirichlet(x, y, m):\n",
    "    ###----- Initializes boundary condition values -----###\n",
    "    lBC = np.zeros(M) # Y[:,0]**2\n",
    "    leftBC = lBC[1:M-1]\n",
    "    \n",
    "    rBC = np.zeros(M) # np.ones((M,1)).flatten()\n",
    "    rightBC = rBC[1:M-1]\n",
    "    \n",
    "    tBC = np.zeros(M) #X[0,:]**3\n",
    "    topBC = tBC[1:M-1]\n",
    "    \n",
    "    bBC = np.zeros(M) #np.ones((1,M)).flatten()\n",
    "    bottomBC = bBC[1:M-1]\n",
    "    \n",
    "    ###----- Creates a ((M-2)**2, ) array of zeros -----###\n",
    "    g1 = np.zeros(((M-2)**2, 1)).flatten()\n",
    "    \n",
    "    ###----- Fills in the top BC (red circles on p. 21) -----###\n",
    "    for i in range(M-2):\n",
    "        g1[(M-2)*i] = topBC[i] \n",
    "    \n",
    "    ###----- Fills in the bottom BC (blue circles on p. 21) -----###\n",
    "    for j in range(M-2):\n",
    "        g1[(M-2)*(j+1)-1] = bottomBC[j]\n",
    "    \n",
    "    ###----- Fills in the left BC (top orange circle on p. 21) -----###\n",
    "    k1 = np.zeros((len(leftBC),1))\n",
    "    k1[0] = 1.0\n",
    "    leftBCk = sparse.kron(k1,leftBC).toarray().flatten()\n",
    "    \n",
    "    ###----- Fills in the right BC (bottom orange circle on p. 21) -----###\n",
    "    k2 = np.zeros((len(rightBC),1))\n",
    "    k2[-1] = 1.0\n",
    "    rightBCk = sparse.kron(k2,rightBC).toarray().flatten()\n",
    "    \n",
    "    ###----- Collects all -----###\n",
    "    g = g1 + leftBCk + rightBCk\n",
    "    \n",
    "    return [g, lBC, tBC, rBC, bBC]\n",
    "    \n",
    "\n",
    "def generate_lhs_matrix(M, hx, hy):\n",
    "    \n",
    "    alpha = hx**2/hy**2\n",
    "\n",
    "    main_diag = 2 * (1 + alpha) * np.ones((M - 2, 1)).ravel()\n",
    "    off_diag = -1 * np.ones((M - 2, 1)).ravel()\n",
    "    \n",
    "    a = main_diag.shape[0]\n",
    "\n",
    "    diagonals = [main_diag, off_diag, off_diag]\n",
    "\n",
    "    B = sparse.diags(diagonals, [0, -1, 1], shape=(a, a)).toarray()\n",
    "    \n",
    "    C = sparse.diags([-1*np.ones((M+1, 1)).ravel()], [0], shape=(a,a)).toarray()\n",
    "        \n",
    "    e1 = sparse.eye(M-2).toarray()\n",
    "    \n",
    "    A1 = sparse.kron(e1,B).toarray()\n",
    "    \n",
    "    e2 = sparse.diags([1*np.ones((M, 1)).ravel(),1*np.ones((M, 1)).ravel()], [-1,1], shape=(M-2,M-2)).toarray()\n",
    "    \n",
    "    A2 = sparse.kron(e2,C).toarray()\n",
    "    \n",
    "    mat = A1 + A2\n",
    "\n",
    "    return mat\n",
    "\n",
    "\n",
    "###========================================###\n",
    "\n",
    "M = 32\n",
    "(x0, xf) = (0.0, 1.0)\n",
    "(y0, yf) = (0.0, 1.0)\n",
    "\n",
    "hx = (xf - x0)/(M-1)\n",
    "hy = (yf - y0)/(M-1)\n",
    "\n",
    "x1 = np.linspace(x0, xf, M)\n",
    "y1 = np.linspace(y0, yf, M)\n",
    "\n",
    "###----- Generates a grid ----###\n",
    "X, Y = np.meshgrid(x1, y1)\n",
    "\n",
    "###----- The right hand side function ----###\n",
    "frhs = rhs_func(X, Y, M)\n",
    "\n",
    "###----- Boundary conditions ----###\n",
    "fbc = bc_dirichlet(X, Y, M)\n",
    "\n",
    "rhs = frhs*(hx**2) + fbc[0]\n",
    "\n",
    "A = generate_lhs_matrix(M, hx, hy)\n",
    "\n",
    "###----- Solves A*x=b --> x=A\\b ----###\n",
    "V = np.linalg.solve(A,rhs)\n",
    "\n",
    "###----- Reshapes the 1D array into a 2D array -----###\n",
    "V = V.reshape((M-2, M-2)).T\n",
    "\n",
    "###----- Fills in boundary values for Dirichlet BC -----###\n",
    "U = np.zeros((M,M))\n",
    "\n",
    "U[1:M-1, 1:M-1] = V\n",
    "U[:,0] = fbc[1]\n",
    "U[0,:] = fbc[2]\n",
    "U[:,M-1] = fbc[3]\n",
    "U[M-1,:] = fbc[4]\n",
    "\n",
    "###----- Plots -----###\n",
    "fig = plt.figure()\n",
    "ax = fig.gca(projection='3d')\n",
    "\n",
    "surf = ax.plot_surface(X, Y, U, cmap=cm.coolwarm,\n",
    "                       linewidth=0, antialiased=False)\n",
    "\n",
    "###----- Static image -----###\n",
    "ax.set_xlabel('X')\n",
    "ax.set_ylabel('Y')\n",
    "ax.set_zlabel('U')\n",
    "plt.tight_layout()\n",
    "ax.view_init(20, -106)\n",
    "plt.show()\n",
    "\n",
    "\n",
    "## #----- Rotate the axes and update\n",
    "## for angle in range(0, 360):\n",
    "##    ax.view_init(20, angle)\n",
    "##    plt.draw()\n",
    "##    plt.pause(.001)\n",
    "#"
   ]
  },
  {
   "cell_type": "code",
   "execution_count": 16,
   "metadata": {},
   "outputs": [
    {
     "data": {
      "text/plain": [
       "(32, 32)"
      ]
     },
     "execution_count": 16,
     "metadata": {},
     "output_type": "execute_result"
    }
   ],
   "source": [
    "U.shape"
   ]
  },
  {
   "cell_type": "code",
   "execution_count": 31,
   "metadata": {},
   "outputs": [
    {
     "data": {
      "text/plain": [
       "<matplotlib.contour.QuadContourSet at 0x12a4927f0>"
      ]
     },
     "execution_count": 31,
     "metadata": {},
     "output_type": "execute_result"
    },
    {
     "data": {
      "image/png": "[encoded data removed]",
      "text/plain": [
       "<Figure size 360x360 with 1 Axes>"
      ]
     },
     "metadata": {
      "needs_background": "light"
     },
     "output_type": "display_data"
    }
   ],
   "source": [
    "plt.figure(figsize=(5,5))\n",
    "plt.contourf(X, Y, U)"
   ]
  },
  {
   "cell_type": "code",
   "execution_count": 27,
   "metadata": {},
   "outputs": [],
   "source": [
    "def anal_sol(x, y):\n",
    "    return x*(1-x)*y*(1-y)*np.exp(x-y)"
   ]
  },
  {
   "cell_type": "code",
   "execution_count": 28,
   "metadata": {},
   "outputs": [],
   "source": [
    "U_an = anal_sol(X, Y)"
   ]
  },
  {
   "cell_type": "code",
   "execution_count": 29,
   "metadata": {},
   "outputs": [
    {
     "data": {
      "text/plain": [
       "(32, 32)"
      ]
     },
     "execution_count": 29,
     "metadata": {},
     "output_type": "execute_result"
    }
   ],
   "source": [
    "U_an.shape"
   ]
  },
  {
   "cell_type": "code",
   "execution_count": 30,
   "metadata": {},
   "outputs": [
    {
     "data": {
      "text/plain": [
       "3.248673419947458e-10"
      ]
     },
     "execution_count": 30,
     "metadata": {},
     "output_type": "execute_result"
    }
   ],
   "source": [
    "np.mean((U - U_an)**2)"
   ]
  },
  {
   "cell_type": "code",
   "execution_count": null,
   "metadata": {},
   "outputs": [],
   "source": []
  }
 ],
 "metadata": {
  "kernelspec": {
   "display_name": "Python 3",
   "language": "python",
   "name": "python3"
  },
  "language_info": {
   "codemirror_mode": {
    "name": "ipython",
    "version": 3
   },
   "file_extension": ".py",
   "mimetype": "text/x-python",
   "name": "python",
   "nbconvert_exporter": "python",
   "pygments_lexer": "ipython3",
   "version": "3.8.3"
  }
 },
 "nbformat": 4,
 "nbformat_minor": 4
}
