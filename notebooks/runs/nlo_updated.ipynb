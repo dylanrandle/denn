{
 "cells": [
  {
   "cell_type": "markdown",
   "metadata": {},
   "source": [
    "# RK4"
   ]
  },
  {
   "cell_type": "code",
   "execution_count": 1,
   "metadata": {},
   "outputs": [],
   "source": [
    "import sys\n",
    "sys.path.append('../../')\n",
    "\n",
    "from denn.rk4 import rk4\n",
    "import numpy as np\n",
    "import matplotlib.pyplot as plt"
   ]
  },
  {
   "cell_type": "code",
   "execution_count": 2,
   "metadata": {},
   "outputs": [],
   "source": [
    "def nlo_deriv(t, xz):\n",
    "    \"\"\" \n",
    "    $$ \\ddot{x} + 2 \\beta \\dot{x} + \\omega^{2} x + \\phi x^{2} + \\epsilon x^{3} = f(t) $$\n",
    "    dxdt = z\n",
    "    dzdt = -2 beta z - omega^2 x - phi x^2 - eps x^3\n",
    "    \n",
    "    x0 = 0\n",
    "    self.omega = 1\n",
    "    self.epsilon = .1\n",
    "    self.beta = .1\n",
    "    self.phi = 1\n",
    "    \n",
    "    n: 400\n",
    "    t_max: 12.56\n",
    "    dx_dt0: 0.5\n",
    "    \"\"\"\n",
    "    b = 0.1\n",
    "    e = 0.1\n",
    "    o = 1\n",
    "    p = 1\n",
    "    \n",
    "    x = xz[0]\n",
    "    z = xz[1]\n",
    "    rhs = np.array([z, -2*b*z - o*o*x - p*x*x - e*(x**3)])\n",
    "    return rhs"
   ]
  },
  {
   "cell_type": "code",
   "execution_count": 3,
   "metadata": {},
   "outputs": [],
   "source": [
    "t, sol = rk4(nlo_deriv, [0, 12.56], [0, 0.5], 1000)"
   ]
  },
  {
   "cell_type": "code",
   "execution_count": 5,
   "metadata": {},
   "outputs": [],
   "source": [
    "from denn.ode_problems import NonlinearOscillator"
   ]
  },
  {
   "cell_type": "code",
   "execution_count": 6,
   "metadata": {},
   "outputs": [],
   "source": [
    "nlo = NonlinearOscillator(dx_dt0=0.5, n=1000)"
   ]
  },
  {
   "cell_type": "code",
   "execution_count": 7,
   "metadata": {},
   "outputs": [],
   "source": [
    "nlo_sol = nlo.get_solution(t, atol=1e-32).numpy()"
   ]
  },
  {
   "cell_type": "code",
   "execution_count": 8,
   "metadata": {},
   "outputs": [],
   "source": [
    "mse = np.mean((nlo_sol[:,0] - sol[:,0])**2)"
   ]
  },
  {
   "cell_type": "code",
   "execution_count": 9,
   "metadata": {},
   "outputs": [
    {
     "data": {
      "text/plain": [
       "4.1011444e-11"
      ]
     },
     "execution_count": 9,
     "metadata": {},
     "output_type": "execute_result"
    }
   ],
   "source": [
    "mse"
   ]
  },
  {
   "cell_type": "markdown",
   "metadata": {},
   "source": [
    "# Better hypers\n",
    "\n",
    "includes Gamma / betas in hypertune"
   ]
  },
  {
   "cell_type": "code",
   "execution_count": 1,
   "metadata": {},
   "outputs": [],
   "source": [
    "import numpy as np\n",
    "import matplotlib.pyplot as plt"
   ]
  },
  {
   "cell_type": "code",
   "execution_count": 2,
   "metadata": {},
   "outputs": [],
   "source": [
    "folder = lambda i: f\"/Users/dylanrandle/Downloads/NLO_run_gan_053020_seed{i}/val_mse.npy\"\n",
    "gan_reps = []\n",
    "for i in range(5):\n",
    "    gan_reps.append(np.load(folder(i)))\n",
    "gan_reps = np.vstack(gan_reps)"
   ]
  },
  {
   "cell_type": "code",
   "execution_count": 3,
   "metadata": {},
   "outputs": [],
   "source": [
    "# folder = lambda i: f\"/Users/dylanrandle/Downloads/NLO_run_gan_052220_seed{i}/val_mse.npy\"\n",
    "# gan_reps = []\n",
    "# for i in range(5):\n",
    "#     gan_reps.append(np.load(folder(i)))\n",
    "# # gan_reps = np.vstack(gan_reps)"
   ]
  },
  {
   "cell_type": "code",
   "execution_count": 4,
   "metadata": {},
   "outputs": [],
   "source": [
    "# gan_reps[0] = gan_reps[0][:10000]"
   ]
  },
  {
   "cell_type": "code",
   "execution_count": 5,
   "metadata": {},
   "outputs": [],
   "source": [
    "# gan_reps = np.vstack(gan_reps)"
   ]
  },
  {
   "cell_type": "code",
   "execution_count": 2,
   "metadata": {},
   "outputs": [],
   "source": [
    "# gan_reps = np.load('../../experiments/reps/nlo_gan_rand_reps_fixedmodels_extratune.npy')[:,:3000]\n",
    "# gan_reps = np.load('/Users/dylanrandle/Downloads/nlo_gan_reps_small.npy')\n",
    "# gan_reps = np.load('/Users/dylanrandle/Downloads/nlo_gan_reps_052220.npy')\n",
    "gan_reps = np.load('C:/Users/Blake Bullwinkel/Documents/Harvard/denn/notebooks/rand_reps/rand_reps_nlo_doublenoise.npy')\n",
    "kept_runs = [0,1,2,3,4,5,6,7,8,9]\n",
    "gan_reps = gan_reps[kept_runs, :]\n",
    "\n",
    "# l2_reps = np.load('../../experiments/reps/nlo_l2_rand_reps_fixedmodels_extratune.npy')\n",
    "# l2_reps = np.load('/Users/dylanrandle/Downloads/nlo_reps_052320_mse.npy')\n",
    "l2_reps = np.load('C:/Users/Blake Bullwinkel/Documents/Harvard/denn/experiments/reps/nlo/nlo_rand_reps_L2.npy')\n",
    "\n",
    "# l1_reps = np.load('../../experiments/reps/nlo_l1_rand_reps_fixedmodels_extratune.npy')\n",
    "# l1_reps = np.load('/Users/dylanrandle/Downloads/nlo_reps_052320_l1.npy')\n",
    "l1_reps = np.load('C:/Users/Blake Bullwinkel/Documents/Harvard/denn/experiments/reps/nlo/nlo_rand_reps_L1.npy')\n",
    "\n",
    "# huber_reps = np.load('../../experiments/reps/nlo_huber_rand_reps_fixedmodels_extratune.npy')[:,:3000]\n",
    "# huber_reps = np.load('/Users/dylanrandle/Downloads/nlo_reps_052320_huber.npy')\n",
    "huber_reps = np.load('C:/Users/Blake Bullwinkel/Documents/Harvard/denn/experiments/reps/nlo/nlo_rand_reps_huber.npy')"
   ]
  },
  {
   "cell_type": "code",
   "execution_count": 3,
   "metadata": {},
   "outputs": [
    {
     "data": {
      "text/plain": [
       "((10, 10000), (10, 12000), (10, 12000), (10, 12000))"
      ]
     },
     "execution_count": 3,
     "metadata": {},
     "output_type": "execute_result"
    }
   ],
   "source": [
    "gan_reps.shape, l2_reps.shape, l1_reps.shape, huber_reps.shape"
   ]
  },
  {
   "cell_type": "code",
   "execution_count": 4,
   "metadata": {},
   "outputs": [],
   "source": [
    "import denn.utils as ut"
   ]
  },
  {
   "cell_type": "code",
   "execution_count": 5,
   "metadata": {},
   "outputs": [
    {
     "data": {
      "image/png": "[encoded data removed]",
      "text/plain": [
       "<Figure size 720x432 with 1 Axes>"
      ]
     },
     "metadata": {
      "needs_background": "light"
     },
     "output_type": "display_data"
    }
   ],
   "source": [
    "arrs_dict = {\"GAN\": gan_reps, \n",
    "             \"$L_2$\": l2_reps[:,:10000],\n",
    "             \"$L_1$\": l1_reps[:,:10000], \n",
    "             \"Huber\": huber_reps[:,:10000],\n",
    "            }\n",
    "ut.plot_reps_results(arrs_dict, fname=\"nlo_rand_reps.png\",\n",
    "                     window=50, figsize=(10,6), pctiles=(25,75), linewidth=4)"
   ]
  },
  {
   "cell_type": "code",
   "execution_count": 8,
   "metadata": {},
   "outputs": [
    {
     "name": "stdout",
     "output_type": "stream",
     "text": [
      "L1 Min: 0.061452969908714294\n",
      "L2 Min: 1.8123837985939417e-09\n",
      "Huber Min: 9.894667307719374e-10\n",
      "GAN Min: 1.0611475890695554e-12\n"
     ]
    }
   ],
   "source": [
    "print(f\"L1 Min: {np.min(l1_reps)}\")\n",
    "print(f\"L2 Min: {np.min(l2_reps)}\")\n",
    "print(f\"Huber Min: {np.min(huber_reps)}\")\n",
    "print(f\"GAN Min: {np.min(gan_reps)}\")"
   ]
  },
  {
   "cell_type": "markdown",
   "metadata": {},
   "source": [
    "# After tuning classical"
   ]
  },
  {
   "cell_type": "code",
   "execution_count": 3,
   "metadata": {},
   "outputs": [],
   "source": [
    "l2_reps_tuned = np.load('../../experiments/reps/nlo_l2_rand_reps_classical_tuned.npy')\n",
    "l1_reps_tuned = np.load('../../experiments/reps/nlo_l1_rand_reps_classical_tuned.npy')\n",
    "huber_reps_tuned = np.load('../../experiments/reps/nlo_huber_rand_reps_classical_tuned.npy')"
   ]
  },
  {
   "cell_type": "code",
   "execution_count": 6,
   "metadata": {},
   "outputs": [
    {
     "data": {
      "image/png": "[encoded data removed]",
      "text/plain": [
       "<Figure size 720x432 with 1 Axes>"
      ]
     },
     "metadata": {
      "needs_background": "light"
     },
     "output_type": "display_data"
    }
   ],
   "source": [
    "arrs_dict = {\"GAN\": gan_reps, \n",
    "             \"$L_2$\": l2_reps,\n",
    "             \"$L_2$-tuned\": l2_reps_tuned,\n",
    "             \"$L_1$\": l1_reps,\n",
    "             \"$L_1$-tuned\": l1_reps_tuned,\n",
    "             \"Huber\": huber_reps,\n",
    "             \"Huber-tuned\": huber_reps_tuned}\n",
    "ut.plot_reps_results(arrs_dict, fname=\"nlo_rand_reps_classic_tune.png\", figsize=(10,6), window=50)"
   ]
  },
  {
   "cell_type": "markdown",
   "metadata": {},
   "source": [
    "# Some hypers"
   ]
  },
  {
   "cell_type": "code",
   "execution_count": 1,
   "metadata": {},
   "outputs": [],
   "source": [
    "from ray.tune import Analysis"
   ]
  },
  {
   "cell_type": "code",
   "execution_count": 2,
   "metadata": {},
   "outputs": [],
   "source": [
    "# an = Analysis('/Users/dylanrandle/ray_results/gan_tuning_nlo/')\n",
    "an = Analysis('/Users/dylanrandle/ray_results/classical_tuning_nlo/')"
   ]
  },
  {
   "cell_type": "code",
   "execution_count": 3,
   "metadata": {},
   "outputs": [
    {
     "data": {
      "text/html": [
       "<div>\n",
       "<style scoped>\n",
       "    .dataframe tbody tr th:only-of-type {\n",
       "        vertical-align: middle;\n",
       "    }\n",
       "\n",
       "    .dataframe tbody tr th {\n",
       "        vertical-align: top;\n",
       "    }\n",
       "\n",
       "    .dataframe thead th {\n",
       "        text-align: right;\n",
       "    }\n",
       "</style>\n",
       "<table border=\"1\" class=\"dataframe\">\n",
       "  <thead>\n",
       "    <tr style=\"text-align: right;\">\n",
       "      <th></th>\n",
       "      <th>mean_squared_error</th>\n",
       "      <th>trial_id</th>\n",
       "      <th>training_iteration</th>\n",
       "      <th>time_this_iter_s</th>\n",
       "      <th>done</th>\n",
       "      <th>timesteps_total</th>\n",
       "      <th>episodes_total</th>\n",
       "      <th>experiment_id</th>\n",
       "      <th>date</th>\n",
       "      <th>timestamp</th>\n",
       "      <th>...</th>\n",
       "      <th>node_ip</th>\n",
       "      <th>time_since_restore</th>\n",
       "      <th>timesteps_since_restore</th>\n",
       "      <th>iterations_since_restore</th>\n",
       "      <th>experiment_tag</th>\n",
       "      <th>config/discriminator</th>\n",
       "      <th>config/generator</th>\n",
       "      <th>config/problem</th>\n",
       "      <th>config/training</th>\n",
       "      <th>logdir</th>\n",
       "    </tr>\n",
       "  </thead>\n",
       "  <tbody>\n",
       "    <tr>\n",
       "      <th>49</th>\n",
       "      <td>0.002300</td>\n",
       "      <td>1108c6d6</td>\n",
       "      <td>299</td>\n",
       "      <td>0.974848</td>\n",
       "      <td>False</td>\n",
       "      <td>NaN</td>\n",
       "      <td>NaN</td>\n",
       "      <td>a3d2c3f434c44710b7e666a5c7c195c5</td>\n",
       "      <td>2020-04-02_15-48-17</td>\n",
       "      <td>1585856897</td>\n",
       "      <td>...</td>\n",
       "      <td>192.168.1.4</td>\n",
       "      <td>294.315594</td>\n",
       "      <td>0</td>\n",
       "      <td>300</td>\n",
       "      <td>21_d_betas=[0.05011763 0.55380932],d_lr=0.0039...</td>\n",
       "      <td>{'activation': 'Tanh', 'in_dim': 1, 'n_hidden_...</td>\n",
       "      <td>{'activation': 'Tanh', 'in_dim': 1, 'n_hidden_...</td>\n",
       "      <td>{'dx_dt0': 0.5, 'n': 400, 'perturb': True, 't_...</td>\n",
       "      <td>{'D_iters': 1, 'G_iters': 1, 'conditional': Fa...</td>\n",
       "      <td>/Users/dylanrandle/ray_results/classical_tunin...</td>\n",
       "    </tr>\n",
       "    <tr>\n",
       "      <th>92</th>\n",
       "      <td>0.002713</td>\n",
       "      <td>111ece90</td>\n",
       "      <td>299</td>\n",
       "      <td>0.583242</td>\n",
       "      <td>False</td>\n",
       "      <td>NaN</td>\n",
       "      <td>NaN</td>\n",
       "      <td>aa823380458744dc92a4ae93dc66b0f8</td>\n",
       "      <td>2020-04-02_15-54-35</td>\n",
       "      <td>1585857275</td>\n",
       "      <td>...</td>\n",
       "      <td>192.168.1.4</td>\n",
       "      <td>284.318420</td>\n",
       "      <td>0</td>\n",
       "      <td>300</td>\n",
       "      <td>65_d_betas=[0.55303213 0.73775489],d_lr=0.0039...</td>\n",
       "      <td>{'activation': 'Tanh', 'in_dim': 1, 'n_hidden_...</td>\n",
       "      <td>{'activation': 'Tanh', 'in_dim': 1, 'n_hidden_...</td>\n",
       "      <td>{'dx_dt0': 0.5, 'n': 400, 'perturb': True, 't_...</td>\n",
       "      <td>{'D_iters': 1, 'G_iters': 1, 'conditional': Fa...</td>\n",
       "      <td>/Users/dylanrandle/ray_results/classical_tunin...</td>\n",
       "    </tr>\n",
       "    <tr>\n",
       "      <th>46</th>\n",
       "      <td>0.002762</td>\n",
       "      <td>110fa88e</td>\n",
       "      <td>299</td>\n",
       "      <td>0.961473</td>\n",
       "      <td>False</td>\n",
       "      <td>NaN</td>\n",
       "      <td>NaN</td>\n",
       "      <td>02ad1811071a4286bd1c3c5f8419eb6e</td>\n",
       "      <td>2020-04-02_15-49-43</td>\n",
       "      <td>1585856983</td>\n",
       "      <td>...</td>\n",
       "      <td>192.168.1.4</td>\n",
       "      <td>292.142769</td>\n",
       "      <td>0</td>\n",
       "      <td>300</td>\n",
       "      <td>32_d_betas=[0.09038878 0.20868441],d_lr=0.0033...</td>\n",
       "      <td>{'activation': 'Tanh', 'in_dim': 1, 'n_hidden_...</td>\n",
       "      <td>{'activation': 'Tanh', 'in_dim': 1, 'n_hidden_...</td>\n",
       "      <td>{'dx_dt0': 0.5, 'n': 400, 'perturb': True, 't_...</td>\n",
       "      <td>{'D_iters': 1, 'G_iters': 1, 'conditional': Fa...</td>\n",
       "      <td>/Users/dylanrandle/ray_results/classical_tunin...</td>\n",
       "    </tr>\n",
       "    <tr>\n",
       "      <th>32</th>\n",
       "      <td>0.002901</td>\n",
       "      <td>111ba6d4</td>\n",
       "      <td>299</td>\n",
       "      <td>0.910077</td>\n",
       "      <td>False</td>\n",
       "      <td>NaN</td>\n",
       "      <td>NaN</td>\n",
       "      <td>8718f4488cb94ac7850dddb1dd74db73</td>\n",
       "      <td>2020-04-02_15-53-59</td>\n",
       "      <td>1585857239</td>\n",
       "      <td>...</td>\n",
       "      <td>192.168.1.4</td>\n",
       "      <td>292.399662</td>\n",
       "      <td>0</td>\n",
       "      <td>300</td>\n",
       "      <td>58_d_betas=[0.90732964 0.88832865],d_lr=0.0048...</td>\n",
       "      <td>{'activation': 'Tanh', 'in_dim': 1, 'n_hidden_...</td>\n",
       "      <td>{'activation': 'Tanh', 'in_dim': 1, 'n_hidden_...</td>\n",
       "      <td>{'dx_dt0': 0.5, 'n': 400, 'perturb': True, 't_...</td>\n",
       "      <td>{'D_iters': 1, 'G_iters': 1, 'conditional': Fa...</td>\n",
       "      <td>/Users/dylanrandle/ray_results/classical_tunin...</td>\n",
       "    </tr>\n",
       "    <tr>\n",
       "      <th>8</th>\n",
       "      <td>0.003087</td>\n",
       "      <td>11396b4c</td>\n",
       "      <td>299</td>\n",
       "      <td>0.170797</td>\n",
       "      <td>False</td>\n",
       "      <td>NaN</td>\n",
       "      <td>NaN</td>\n",
       "      <td>afc4f4df0bbe47569c50f50ebc842e5a</td>\n",
       "      <td>2020-04-02_15-55-22</td>\n",
       "      <td>1585857322</td>\n",
       "      <td>...</td>\n",
       "      <td>192.168.1.4</td>\n",
       "      <td>129.823966</td>\n",
       "      <td>0</td>\n",
       "      <td>300</td>\n",
       "      <td>92_d_betas=[0.79452382 0.05647919],d_lr=0.0098...</td>\n",
       "      <td>{'activation': 'Tanh', 'in_dim': 1, 'n_hidden_...</td>\n",
       "      <td>{'activation': 'Tanh', 'in_dim': 1, 'n_hidden_...</td>\n",
       "      <td>{'dx_dt0': 0.5, 'n': 400, 'perturb': True, 't_...</td>\n",
       "      <td>{'D_iters': 1, 'G_iters': 1, 'conditional': Fa...</td>\n",
       "      <td>/Users/dylanrandle/ray_results/classical_tunin...</td>\n",
       "    </tr>\n",
       "    <tr>\n",
       "      <th>25</th>\n",
       "      <td>0.003165</td>\n",
       "      <td>11155540</td>\n",
       "      <td>299</td>\n",
       "      <td>1.049695</td>\n",
       "      <td>False</td>\n",
       "      <td>NaN</td>\n",
       "      <td>NaN</td>\n",
       "      <td>4fbd281ac94d4eb9a5ba2eff1c679f0d</td>\n",
       "      <td>2020-04-02_15-51-14</td>\n",
       "      <td>1585857074</td>\n",
       "      <td>...</td>\n",
       "      <td>192.168.1.4</td>\n",
       "      <td>294.997604</td>\n",
       "      <td>0</td>\n",
       "      <td>300</td>\n",
       "      <td>44_d_betas=[0.05633205 0.48045044],d_lr=0.0024...</td>\n",
       "      <td>{'activation': 'Tanh', 'in_dim': 1, 'n_hidden_...</td>\n",
       "      <td>{'activation': 'Tanh', 'in_dim': 1, 'n_hidden_...</td>\n",
       "      <td>{'dx_dt0': 0.5, 'n': 400, 'perturb': True, 't_...</td>\n",
       "      <td>{'D_iters': 1, 'G_iters': 1, 'conditional': Fa...</td>\n",
       "      <td>/Users/dylanrandle/ray_results/classical_tunin...</td>\n",
       "    </tr>\n",
       "    <tr>\n",
       "      <th>69</th>\n",
       "      <td>0.003173</td>\n",
       "      <td>111accbe</td>\n",
       "      <td>299</td>\n",
       "      <td>0.987790</td>\n",
       "      <td>False</td>\n",
       "      <td>NaN</td>\n",
       "      <td>NaN</td>\n",
       "      <td>fa3c9188f2494196bfa2d660c183506a</td>\n",
       "      <td>2020-04-02_15-53-45</td>\n",
       "      <td>1585857225</td>\n",
       "      <td>...</td>\n",
       "      <td>192.168.1.4</td>\n",
       "      <td>290.500415</td>\n",
       "      <td>0</td>\n",
       "      <td>300</td>\n",
       "      <td>56_d_betas=[0.51228458 0.95810216],d_lr=0.0067...</td>\n",
       "      <td>{'activation': 'Tanh', 'in_dim': 1, 'n_hidden_...</td>\n",
       "      <td>{'activation': 'Tanh', 'in_dim': 1, 'n_hidden_...</td>\n",
       "      <td>{'dx_dt0': 0.5, 'n': 400, 'perturb': True, 't_...</td>\n",
       "      <td>{'D_iters': 1, 'G_iters': 1, 'conditional': Fa...</td>\n",
       "      <td>/Users/dylanrandle/ray_results/classical_tunin...</td>\n",
       "    </tr>\n",
       "    <tr>\n",
       "      <th>3</th>\n",
       "      <td>0.003181</td>\n",
       "      <td>11145af0</td>\n",
       "      <td>299</td>\n",
       "      <td>1.006849</td>\n",
       "      <td>False</td>\n",
       "      <td>NaN</td>\n",
       "      <td>NaN</td>\n",
       "      <td>ec25c20219c9411da6816dcfde4f1125</td>\n",
       "      <td>2020-04-02_15-50-51</td>\n",
       "      <td>1585857051</td>\n",
       "      <td>...</td>\n",
       "      <td>192.168.1.4</td>\n",
       "      <td>294.681668</td>\n",
       "      <td>0</td>\n",
       "      <td>300</td>\n",
       "      <td>42_d_betas=[0.73811145 0.29580572],d_lr=0.0087...</td>\n",
       "      <td>{'activation': 'Tanh', 'in_dim': 1, 'n_hidden_...</td>\n",
       "      <td>{'activation': 'Tanh', 'in_dim': 1, 'n_hidden_...</td>\n",
       "      <td>{'dx_dt0': 0.5, 'n': 400, 'perturb': True, 't_...</td>\n",
       "      <td>{'D_iters': 1, 'G_iters': 1, 'conditional': Fa...</td>\n",
       "      <td>/Users/dylanrandle/ray_results/classical_tunin...</td>\n",
       "    </tr>\n",
       "    <tr>\n",
       "      <th>12</th>\n",
       "      <td>0.003645</td>\n",
       "      <td>110c7d80</td>\n",
       "      <td>298</td>\n",
       "      <td>0.866477</td>\n",
       "      <td>False</td>\n",
       "      <td>NaN</td>\n",
       "      <td>NaN</td>\n",
       "      <td>1b359e016b5d44b9beee82dcc7567f5f</td>\n",
       "      <td>2020-04-02_15-49-20</td>\n",
       "      <td>1585856960</td>\n",
       "      <td>...</td>\n",
       "      <td>192.168.1.4</td>\n",
       "      <td>294.153929</td>\n",
       "      <td>0</td>\n",
       "      <td>299</td>\n",
       "      <td>29_d_betas=[0.7704908  0.12370621],d_lr=0.0008...</td>\n",
       "      <td>{'activation': 'Tanh', 'in_dim': 1, 'n_hidden_...</td>\n",
       "      <td>{'activation': 'Tanh', 'in_dim': 1, 'n_hidden_...</td>\n",
       "      <td>{'dx_dt0': 0.5, 'n': 400, 'perturb': True, 't_...</td>\n",
       "      <td>{'D_iters': 1, 'G_iters': 1, 'conditional': Fa...</td>\n",
       "      <td>/Users/dylanrandle/ray_results/classical_tunin...</td>\n",
       "    </tr>\n",
       "    <tr>\n",
       "      <th>54</th>\n",
       "      <td>0.003682</td>\n",
       "      <td>10ff40ac</td>\n",
       "      <td>298</td>\n",
       "      <td>0.919121</td>\n",
       "      <td>False</td>\n",
       "      <td>NaN</td>\n",
       "      <td>NaN</td>\n",
       "      <td>4535485b4885430fb65ce9e3d91d945c</td>\n",
       "      <td>2020-04-02_15-47-10</td>\n",
       "      <td>1585856830</td>\n",
       "      <td>...</td>\n",
       "      <td>192.168.1.4</td>\n",
       "      <td>286.929824</td>\n",
       "      <td>0</td>\n",
       "      <td>299</td>\n",
       "      <td>1_d_betas=[0.4300821  0.06338429],d_lr=0.00468...</td>\n",
       "      <td>{'activation': 'Tanh', 'in_dim': 1, 'n_hidden_...</td>\n",
       "      <td>{'activation': 'Tanh', 'in_dim': 1, 'n_hidden_...</td>\n",
       "      <td>{'dx_dt0': 0.5, 'n': 400, 'perturb': True, 't_...</td>\n",
       "      <td>{'D_iters': 1, 'G_iters': 1, 'conditional': Fa...</td>\n",
       "      <td>/Users/dylanrandle/ray_results/classical_tunin...</td>\n",
       "    </tr>\n",
       "  </tbody>\n",
       "</table>\n",
       "<p>10 rows × 23 columns</p>\n",
       "</div>"
      ],
      "text/plain": [
       "    mean_squared_error  trial_id  training_iteration  time_this_iter_s   done  \\\n",
       "49            0.002300  1108c6d6                 299          0.974848  False   \n",
       "92            0.002713  111ece90                 299          0.583242  False   \n",
       "46            0.002762  110fa88e                 299          0.961473  False   \n",
       "32            0.002901  111ba6d4                 299          0.910077  False   \n",
       "8             0.003087  11396b4c                 299          0.170797  False   \n",
       "25            0.003165  11155540                 299          1.049695  False   \n",
       "69            0.003173  111accbe                 299          0.987790  False   \n",
       "3             0.003181  11145af0                 299          1.006849  False   \n",
       "12            0.003645  110c7d80                 298          0.866477  False   \n",
       "54            0.003682  10ff40ac                 298          0.919121  False   \n",
       "\n",
       "    timesteps_total  episodes_total                     experiment_id  \\\n",
       "49              NaN             NaN  a3d2c3f434c44710b7e666a5c7c195c5   \n",
       "92              NaN             NaN  aa823380458744dc92a4ae93dc66b0f8   \n",
       "46              NaN             NaN  02ad1811071a4286bd1c3c5f8419eb6e   \n",
       "32              NaN             NaN  8718f4488cb94ac7850dddb1dd74db73   \n",
       "8               NaN             NaN  afc4f4df0bbe47569c50f50ebc842e5a   \n",
       "25              NaN             NaN  4fbd281ac94d4eb9a5ba2eff1c679f0d   \n",
       "69              NaN             NaN  fa3c9188f2494196bfa2d660c183506a   \n",
       "3               NaN             NaN  ec25c20219c9411da6816dcfde4f1125   \n",
       "12              NaN             NaN  1b359e016b5d44b9beee82dcc7567f5f   \n",
       "54              NaN             NaN  4535485b4885430fb65ce9e3d91d945c   \n",
       "\n",
       "                   date   timestamp  ...      node_ip  time_since_restore  \\\n",
       "49  2020-04-02_15-48-17  1585856897  ...  192.168.1.4          294.315594   \n",
       "92  2020-04-02_15-54-35  1585857275  ...  192.168.1.4          284.318420   \n",
       "46  2020-04-02_15-49-43  1585856983  ...  192.168.1.4          292.142769   \n",
       "32  2020-04-02_15-53-59  1585857239  ...  192.168.1.4          292.399662   \n",
       "8   2020-04-02_15-55-22  1585857322  ...  192.168.1.4          129.823966   \n",
       "25  2020-04-02_15-51-14  1585857074  ...  192.168.1.4          294.997604   \n",
       "69  2020-04-02_15-53-45  1585857225  ...  192.168.1.4          290.500415   \n",
       "3   2020-04-02_15-50-51  1585857051  ...  192.168.1.4          294.681668   \n",
       "12  2020-04-02_15-49-20  1585856960  ...  192.168.1.4          294.153929   \n",
       "54  2020-04-02_15-47-10  1585856830  ...  192.168.1.4          286.929824   \n",
       "\n",
       "   timesteps_since_restore iterations_since_restore  \\\n",
       "49                       0                      300   \n",
       "92                       0                      300   \n",
       "46                       0                      300   \n",
       "32                       0                      300   \n",
       "8                        0                      300   \n",
       "25                       0                      300   \n",
       "69                       0                      300   \n",
       "3                        0                      300   \n",
       "12                       0                      299   \n",
       "54                       0                      299   \n",
       "\n",
       "                                       experiment_tag  \\\n",
       "49  21_d_betas=[0.05011763 0.55380932],d_lr=0.0039...   \n",
       "92  65_d_betas=[0.55303213 0.73775489],d_lr=0.0039...   \n",
       "46  32_d_betas=[0.09038878 0.20868441],d_lr=0.0033...   \n",
       "32  58_d_betas=[0.90732964 0.88832865],d_lr=0.0048...   \n",
       "8   92_d_betas=[0.79452382 0.05647919],d_lr=0.0098...   \n",
       "25  44_d_betas=[0.05633205 0.48045044],d_lr=0.0024...   \n",
       "69  56_d_betas=[0.51228458 0.95810216],d_lr=0.0067...   \n",
       "3   42_d_betas=[0.73811145 0.29580572],d_lr=0.0087...   \n",
       "12  29_d_betas=[0.7704908  0.12370621],d_lr=0.0008...   \n",
       "54  1_d_betas=[0.4300821  0.06338429],d_lr=0.00468...   \n",
       "\n",
       "                                 config/discriminator  \\\n",
       "49  {'activation': 'Tanh', 'in_dim': 1, 'n_hidden_...   \n",
       "92  {'activation': 'Tanh', 'in_dim': 1, 'n_hidden_...   \n",
       "46  {'activation': 'Tanh', 'in_dim': 1, 'n_hidden_...   \n",
       "32  {'activation': 'Tanh', 'in_dim': 1, 'n_hidden_...   \n",
       "8   {'activation': 'Tanh', 'in_dim': 1, 'n_hidden_...   \n",
       "25  {'activation': 'Tanh', 'in_dim': 1, 'n_hidden_...   \n",
       "69  {'activation': 'Tanh', 'in_dim': 1, 'n_hidden_...   \n",
       "3   {'activation': 'Tanh', 'in_dim': 1, 'n_hidden_...   \n",
       "12  {'activation': 'Tanh', 'in_dim': 1, 'n_hidden_...   \n",
       "54  {'activation': 'Tanh', 'in_dim': 1, 'n_hidden_...   \n",
       "\n",
       "                                     config/generator  \\\n",
       "49  {'activation': 'Tanh', 'in_dim': 1, 'n_hidden_...   \n",
       "92  {'activation': 'Tanh', 'in_dim': 1, 'n_hidden_...   \n",
       "46  {'activation': 'Tanh', 'in_dim': 1, 'n_hidden_...   \n",
       "32  {'activation': 'Tanh', 'in_dim': 1, 'n_hidden_...   \n",
       "8   {'activation': 'Tanh', 'in_dim': 1, 'n_hidden_...   \n",
       "25  {'activation': 'Tanh', 'in_dim': 1, 'n_hidden_...   \n",
       "69  {'activation': 'Tanh', 'in_dim': 1, 'n_hidden_...   \n",
       "3   {'activation': 'Tanh', 'in_dim': 1, 'n_hidden_...   \n",
       "12  {'activation': 'Tanh', 'in_dim': 1, 'n_hidden_...   \n",
       "54  {'activation': 'Tanh', 'in_dim': 1, 'n_hidden_...   \n",
       "\n",
       "                                       config/problem  \\\n",
       "49  {'dx_dt0': 0.5, 'n': 400, 'perturb': True, 't_...   \n",
       "92  {'dx_dt0': 0.5, 'n': 400, 'perturb': True, 't_...   \n",
       "46  {'dx_dt0': 0.5, 'n': 400, 'perturb': True, 't_...   \n",
       "32  {'dx_dt0': 0.5, 'n': 400, 'perturb': True, 't_...   \n",
       "8   {'dx_dt0': 0.5, 'n': 400, 'perturb': True, 't_...   \n",
       "25  {'dx_dt0': 0.5, 'n': 400, 'perturb': True, 't_...   \n",
       "69  {'dx_dt0': 0.5, 'n': 400, 'perturb': True, 't_...   \n",
       "3   {'dx_dt0': 0.5, 'n': 400, 'perturb': True, 't_...   \n",
       "12  {'dx_dt0': 0.5, 'n': 400, 'perturb': True, 't_...   \n",
       "54  {'dx_dt0': 0.5, 'n': 400, 'perturb': True, 't_...   \n",
       "\n",
       "                                      config/training  \\\n",
       "49  {'D_iters': 1, 'G_iters': 1, 'conditional': Fa...   \n",
       "92  {'D_iters': 1, 'G_iters': 1, 'conditional': Fa...   \n",
       "46  {'D_iters': 1, 'G_iters': 1, 'conditional': Fa...   \n",
       "32  {'D_iters': 1, 'G_iters': 1, 'conditional': Fa...   \n",
       "8   {'D_iters': 1, 'G_iters': 1, 'conditional': Fa...   \n",
       "25  {'D_iters': 1, 'G_iters': 1, 'conditional': Fa...   \n",
       "69  {'D_iters': 1, 'G_iters': 1, 'conditional': Fa...   \n",
       "3   {'D_iters': 1, 'G_iters': 1, 'conditional': Fa...   \n",
       "12  {'D_iters': 1, 'G_iters': 1, 'conditional': Fa...   \n",
       "54  {'D_iters': 1, 'G_iters': 1, 'conditional': Fa...   \n",
       "\n",
       "                                               logdir  \n",
       "49  /Users/dylanrandle/ray_results/classical_tunin...  \n",
       "92  /Users/dylanrandle/ray_results/classical_tunin...  \n",
       "46  /Users/dylanrandle/ray_results/classical_tunin...  \n",
       "32  /Users/dylanrandle/ray_results/classical_tunin...  \n",
       "8   /Users/dylanrandle/ray_results/classical_tunin...  \n",
       "25  /Users/dylanrandle/ray_results/classical_tunin...  \n",
       "69  /Users/dylanrandle/ray_results/classical_tunin...  \n",
       "3   /Users/dylanrandle/ray_results/classical_tunin...  \n",
       "12  /Users/dylanrandle/ray_results/classical_tunin...  \n",
       "54  /Users/dylanrandle/ray_results/classical_tunin...  \n",
       "\n",
       "[10 rows x 23 columns]"
      ]
     },
     "execution_count": 3,
     "metadata": {},
     "output_type": "execute_result"
    }
   ],
   "source": [
    "an.dataframe('mean_squared_error', mode='min').sort_values(by='mean_squared_error').head(10)"
   ]
  },
  {
   "cell_type": "code",
   "execution_count": 4,
   "metadata": {},
   "outputs": [
    {
     "data": {
      "text/plain": [
       "{'discriminator': {'activation': 'Tanh',\n",
       "  'in_dim': 1,\n",
       "  'n_hidden_layers': 2,\n",
       "  'n_hidden_units': 20,\n",
       "  'out_dim': 1,\n",
       "  'regress': False,\n",
       "  'residual': True,\n",
       "  'spectral_norm': True},\n",
       " 'generator': {'activation': 'Tanh',\n",
       "  'in_dim': 1,\n",
       "  'n_hidden_layers': 2,\n",
       "  'n_hidden_units': 20,\n",
       "  'out_dim': 1,\n",
       "  'regress': True,\n",
       "  'residual': True},\n",
       " 'problem': {'dx_dt0': 0.5, 'n': 400, 'perturb': True, 't_max': 12.56},\n",
       " 'training': {'D_iters': 1,\n",
       "  'G_iters': 1,\n",
       "  'conditional': False,\n",
       "  'd1': 1,\n",
       "  'd2': 1,\n",
       "  'd_betas': '[0.05011763 0.55380932]',\n",
       "  'd_lr': 0.003969361013417374,\n",
       "  'dirname': 'NLO_run_March22_smoothL1',\n",
       "  'g_betas': '[0.7816786  0.68308922]',\n",
       "  'g_lr': 0.009864365500106666,\n",
       "  'gamma': 0.9988731072780002,\n",
       "  'gp': 0.1,\n",
       "  'log': False,\n",
       "  'loss_fn': 'SmoothL1Loss',\n",
       "  'lr_schedule': True,\n",
       "  'method': 'unsupervised',\n",
       "  'niters': 3000,\n",
       "  'obs_every': 1,\n",
       "  'plot': False,\n",
       "  'save': False,\n",
       "  'seed': 0,\n",
       "  'wgan': False}}"
      ]
     },
     "execution_count": 4,
     "metadata": {},
     "output_type": "execute_result"
    }
   ],
   "source": [
    "an.get_best_config('mean_squared_error', mode='min')"
   ]
  },
  {
   "cell_type": "code",
   "execution_count": null,
   "metadata": {},
   "outputs": [],
   "source": []
  }
 ],
 "metadata": {
  "kernelspec": {
   "display_name": "Python 3",
   "language": "python",
   "name": "python3"
  },
  "language_info": {
   "codemirror_mode": {
    "name": "ipython",
    "version": 3
   },
   "file_extension": ".py",
   "mimetype": "text/x-python",
   "name": "python",
   "nbconvert_exporter": "python",
   "pygments_lexer": "ipython3",
   "version": "3.8.3"
  }
 },
 "nbformat": 4,
 "nbformat_minor": 4
}
