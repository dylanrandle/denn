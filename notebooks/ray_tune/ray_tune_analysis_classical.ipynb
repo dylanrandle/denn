{
 "cells": [
  {
   "cell_type": "code",
   "execution_count": 1,
   "metadata": {},
   "outputs": [],
   "source": [
    "import numpy as np\n",
    "import pandas as pd\n",
    "import matplotlib.pyplot as plt\n",
    "import matplotlib.ticker as mtick\n",
    "import matplotlib.colors as col\n",
    "import seaborn as sns\n",
    "import ast"
   ]
  },
  {
   "cell_type": "markdown",
   "metadata": {},
   "source": [
    "# Generic Functions"
   ]
  },
  {
   "cell_type": "code",
   "execution_count": 2,
   "metadata": {},
   "outputs": [],
   "source": [
    "def get_training_hyper(row, hyper=\"seed\"):\n",
    "    hypers = ast.literal_eval(row[\"config/training\"])\n",
    "    return hypers[hyper]\n",
    "\n",
    "def get_problem_hyper(row, hyper=\"lam\"):\n",
    "    hypers = ast.literal_eval(row[\"config/problem\"])\n",
    "    return hypers[hyper]\n",
    "\n",
    "def get_d_hypers(row, hyper=\"n_hidden_units\"):\n",
    "    hypers = ast.literal_eval(row[\"config/discriminator\"])\n",
    "    return hypers[hyper] \n",
    "\n",
    "def get_g_hypers(row, hyper=\"n_hidden_units\"):\n",
    "    hypers = ast.literal_eval(row[\"config/generator\"])\n",
    "    return hypers[hyper] \n",
    "\n",
    "def get_expanded_df(results_df, optim=\"sgd\", lam=False):\n",
    "    \n",
    "    # List the training hyperparameters\n",
    "    if optim == \"sgd\":\n",
    "        training_hypers = [\"seed\", \"d_lr\", \"g_lr\", \"gamma\", \"momentum\", \"step_size\"]\n",
    "        precise_cols = training_hypers[1:5]\n",
    "    elif optim == \"adam\":\n",
    "        training_hypers = [\"seed\", \"d_lr\", \"g_lr\", \"gamma\", \"g_betas\", \"d_betas\", \"step_size\"]          \n",
    "        precise_cols = training_hypers[1:4]\n",
    "    else:\n",
    "        raise Exception(f\"optimizer {optim} not recognized\")\n",
    "\n",
    "    # List the discriminator and generator network hyperparameters\n",
    "    nn_hypers = [\"n_hidden_units\", \"n_hidden_layers\"]\n",
    "\n",
    "    # Add a new column for each training hyperparameter\n",
    "    for hyper in training_hypers:\n",
    "        results_df[hyper] = results_df.apply(lambda row: get_training_hyper(row, hyper), axis=1)\n",
    "\n",
    "    # Add a new column for each discriminator and generator hyperparameter\n",
    "    for hyper in nn_hypers:\n",
    "        results_df[\"d_\"+hyper] = results_df.apply(lambda row: get_d_hypers(row, hyper), axis=1)\n",
    "        results_df[\"g_\"+hyper] = results_df.apply(lambda row: get_g_hypers(row, hyper), axis=1)\n",
    "        \n",
    "    # Add a column for lambda\n",
    "    if lam:\n",
    "        precise_cols.append(\"lam\")\n",
    "        results_df[\"lam\"] = results_df.apply(lambda row: get_problem_hyper(row, \"lam\"), axis=1)\n",
    "        \n",
    "    # Increase precision of several hypers\n",
    "    for col in precise_cols:\n",
    "        results_df[col] = results_df[col].map(lambda x: '{0:.17}'.format(x))\n",
    "        \n",
    "    # Drop unnecessary columns\n",
    "    results_df = results_df.drop([\"time_this_iter_s\", \"done\", \"timesteps_total\", \"episodes_total\", \n",
    "                                  \"training_iteration\", \"experiment_id\", \"timestamp\", \"time_total_s\", \n",
    "                                  \"pid\", \"node_ip\", \"time_since_restore\", \"timesteps_since_restore\", \n",
    "                                  \"iterations_since_restore\", \"trial_id\", \"config/generator\", \n",
    "                                  \"config/discriminator\", \"config/problem\", \"config/training\"], axis=1)   \n",
    "    return results_df"
   ]
  },
  {
   "cell_type": "markdown",
   "metadata": {},
   "source": [
    "# 1. EXP\n",
    "\n",
    "## 1.1 L2"
   ]
  },
  {
   "cell_type": "code",
   "execution_count": 10,
   "metadata": {},
   "outputs": [
    {
     "data": {
      "text/plain": [
       "mean_squared_error                                  4.03879e-08\n",
       "date                                        2022-03-15_00-36-33\n",
       "hostname                         holy7c24202.rc.fas.harvard.edu\n",
       "seed                                                          3\n",
       "d_lr                                       0.003998154054910664\n",
       "g_lr                                       0.011280590164998256\n",
       "gamma                                       0.92827969684332612\n",
       "g_betas               [0.18188980961316425, 0.9952247116684417]\n",
       "d_betas               [0.22651674714417291, 0.7427481558494436]\n",
       "step_size                                                    10\n",
       "d_n_hidden_units                                             20\n",
       "g_n_hidden_units                                             20\n",
       "d_n_hidden_layers                                             3\n",
       "g_n_hidden_layers                                             4\n",
       "Name: 49, dtype: object"
      ]
     },
     "execution_count": 10,
     "metadata": {},
     "output_type": "execute_result"
    }
   ],
   "source": [
    "# Read in the EXP results\n",
    "exp_results = pd.read_csv(\"classical_results/ray_tune_exp_MSELoss.csv\", usecols=np.arange(1,22))\n",
    "exp_results = get_expanded_df(exp_results, optim=\"adam\")\n",
    "exp_results.loc[exp_results[\"mean_squared_error\"].idxmin()]"
   ]
  },
  {
   "cell_type": "markdown",
   "metadata": {},
   "source": [
    "## 1.2 L1"
   ]
  },
  {
   "cell_type": "code",
   "execution_count": 11,
   "metadata": {},
   "outputs": [
    {
     "data": {
      "text/plain": [
       "mean_squared_error                                   0.00013617\n",
       "date                                        2022-03-15_00-44-38\n",
       "hostname                         holy7c24202.rc.fas.harvard.edu\n",
       "seed                                                          8\n",
       "d_lr                                       0.019631921422541127\n",
       "g_lr                                      0.0067638346679588651\n",
       "gamma                                       0.90847825545056637\n",
       "g_betas               [0.21733559890544668, 0.6981208782506974]\n",
       "d_betas               [0.22916606500920175, 0.9782037648205828]\n",
       "step_size                                                     9\n",
       "d_n_hidden_units                                             20\n",
       "g_n_hidden_units                                             30\n",
       "d_n_hidden_layers                                             2\n",
       "g_n_hidden_layers                                             5\n",
       "Name: 90, dtype: object"
      ]
     },
     "execution_count": 11,
     "metadata": {},
     "output_type": "execute_result"
    }
   ],
   "source": [
    "# Read in the EXP results\n",
    "exp_results = pd.read_csv(\"classical_results/ray_tune_exp_L1Loss.csv\", usecols=np.arange(1,22))\n",
    "exp_results = get_expanded_df(exp_results, optim=\"adam\")\n",
    "exp_results.loc[exp_results[\"mean_squared_error\"].idxmin()]"
   ]
  },
  {
   "cell_type": "markdown",
   "metadata": {},
   "source": [
    "## 1.3 Huber"
   ]
  },
  {
   "cell_type": "code",
   "execution_count": 12,
   "metadata": {},
   "outputs": [
    {
     "data": {
      "text/plain": [
       "mean_squared_error                                  2.85947e-08\n",
       "date                                        2022-03-15_00-54-03\n",
       "hostname                         holy7c24202.rc.fas.harvard.edu\n",
       "seed                                                          4\n",
       "d_lr                                       0.012751363190218971\n",
       "g_lr                                       0.011853007884969579\n",
       "gamma                                       0.96223535966670204\n",
       "g_betas               [0.20733256235866268, 0.8834288835546434]\n",
       "d_betas                [0.19180760980017156, 0.873570627966314]\n",
       "step_size                                                     4\n",
       "d_n_hidden_units                                             20\n",
       "g_n_hidden_units                                             20\n",
       "d_n_hidden_layers                                             2\n",
       "g_n_hidden_layers                                             4\n",
       "Name: 143, dtype: object"
      ]
     },
     "execution_count": 12,
     "metadata": {},
     "output_type": "execute_result"
    }
   ],
   "source": [
    "# Read in the EXP results\n",
    "exp_results = pd.read_csv(\"classical_results/ray_tune_exp_SmoothL1Loss.csv\", usecols=np.arange(1,22))\n",
    "exp_results = get_expanded_df(exp_results, optim=\"adam\")\n",
    "exp_results.loc[exp_results[\"mean_squared_error\"].idxmin()]"
   ]
  },
  {
   "cell_type": "markdown",
   "metadata": {},
   "source": [
    "# 2. SHO\n",
    "\n",
    "## 2.1 L2"
   ]
  },
  {
   "cell_type": "code",
   "execution_count": 21,
   "metadata": {},
   "outputs": [
    {
     "data": {
      "text/plain": [
       "mean_squared_error                                   1.36245e-09\n",
       "date                                         2022-03-15_14-13-56\n",
       "hostname                          holy7c24304.rc.fas.harvard.edu\n",
       "seed                                                           1\n",
       "d_lr                                       0.0064142351844139762\n",
       "g_lr                                        0.010700740751825946\n",
       "gamma                                         0.9966532790839987\n",
       "g_betas               [0.056260393978402594, 0.9856354179096971]\n",
       "d_betas                 [0.27653985619978705, 0.824622770493504]\n",
       "step_size                                                      4\n",
       "d_n_hidden_units                                              50\n",
       "g_n_hidden_units                                              20\n",
       "d_n_hidden_layers                                              4\n",
       "g_n_hidden_layers                                              2\n",
       "Name: 29, dtype: object"
      ]
     },
     "execution_count": 21,
     "metadata": {},
     "output_type": "execute_result"
    }
   ],
   "source": [
    "# Read in the first SHO results\n",
    "sho_results = pd.read_csv(\"classical_results/ray_tune_sho_MSELoss.csv\", usecols=np.arange(1,22))\n",
    "sho_results = get_expanded_df(sho_results, optim=\"adam\")\n",
    "sho_results.loc[sho_results[\"mean_squared_error\"].idxmin()]"
   ]
  },
  {
   "cell_type": "markdown",
   "metadata": {},
   "source": [
    "## 2.2 L1"
   ]
  },
  {
   "cell_type": "code",
   "execution_count": 22,
   "metadata": {},
   "outputs": [
    {
     "data": {
      "text/plain": [
       "mean_squared_error                                   1.40999e-05\n",
       "date                                         2022-03-15_14-32-44\n",
       "hostname                          holy7c24304.rc.fas.harvard.edu\n",
       "seed                                                           8\n",
       "d_lr                                        0.017644664663183745\n",
       "g_lr                                        0.017716116013755272\n",
       "gamma                                        0.96579292102052083\n",
       "g_betas                 [0.3255239388319677, 0.7932651019648391]\n",
       "d_betas               [0.003087774244473942, 0.7256657996354898]\n",
       "step_size                                                     17\n",
       "d_n_hidden_units                                              50\n",
       "g_n_hidden_units                                              40\n",
       "d_n_hidden_layers                                              2\n",
       "g_n_hidden_layers                                              5\n",
       "Name: 186, dtype: object"
      ]
     },
     "execution_count": 22,
     "metadata": {},
     "output_type": "execute_result"
    }
   ],
   "source": [
    "# Read in the first SHO results\n",
    "sho_results = pd.read_csv(\"classical_results/ray_tune_sho_L1Loss.csv\", usecols=np.arange(1,22))\n",
    "sho_results = get_expanded_df(sho_results, optim=\"adam\")\n",
    "sho_results.loc[sho_results[\"mean_squared_error\"].idxmin()]"
   ]
  },
  {
   "cell_type": "markdown",
   "metadata": {},
   "source": [
    "## 2.3 Huber"
   ]
  },
  {
   "cell_type": "code",
   "execution_count": 23,
   "metadata": {},
   "outputs": [
    {
     "data": {
      "text/plain": [
       "mean_squared_error                                  5.29674e-10\n",
       "date                                        2022-03-15_14-40-39\n",
       "hostname                         holy7c24304.rc.fas.harvard.edu\n",
       "seed                                                          4\n",
       "d_lr                                       0.010844361884840359\n",
       "g_lr                                      0.0069910126017160689\n",
       "gamma                                       0.98584169381562026\n",
       "g_betas               [0.08826700490681576, 0.8232697033306144]\n",
       "d_betas                [0.2244857669030433, 0.8492048870694309]\n",
       "step_size                                                    20\n",
       "d_n_hidden_units                                             20\n",
       "g_n_hidden_units                                             20\n",
       "d_n_hidden_layers                                             2\n",
       "g_n_hidden_layers                                             2\n",
       "Name: 29, dtype: object"
      ]
     },
     "execution_count": 23,
     "metadata": {},
     "output_type": "execute_result"
    }
   ],
   "source": [
    "# Read in the first SHO results\n",
    "sho_results = pd.read_csv(\"classical_results/ray_tune_sho_SmoothL1Loss.csv\", usecols=np.arange(1,22))\n",
    "sho_results = get_expanded_df(sho_results, optim=\"adam\")\n",
    "sho_results.loc[sho_results[\"mean_squared_error\"].idxmin()]"
   ]
  },
  {
   "cell_type": "markdown",
   "metadata": {},
   "source": [
    "# 3. NLO\n",
    "\n",
    "## 3.1 L2 "
   ]
  },
  {
   "cell_type": "code",
   "execution_count": 24,
   "metadata": {},
   "outputs": [
    {
     "data": {
      "text/plain": [
       "mean_squared_error                                  3.82057e-10\n",
       "date                                        2022-03-15_14-20-38\n",
       "hostname                         holy7c24401.rc.fas.harvard.edu\n",
       "seed                                                          3\n",
       "d_lr                                       0.012452364544839624\n",
       "g_lr                                      0.0072900784938496324\n",
       "gamma                                        0.9925769778492004\n",
       "g_betas               [0.14273764411127707, 0.7346959799270164]\n",
       "d_betas               [0.23073355192717207, 0.9037974958572559]\n",
       "step_size                                                     7\n",
       "d_n_hidden_units                                             40\n",
       "g_n_hidden_units                                             50\n",
       "d_n_hidden_layers                                             3\n",
       "g_n_hidden_layers                                             3\n",
       "Name: 170, dtype: object"
      ]
     },
     "execution_count": 24,
     "metadata": {},
     "output_type": "execute_result"
    }
   ],
   "source": [
    "# Read in the first NLO results\n",
    "nlo_results = pd.read_csv(\"classical_results/ray_tune_nlo_MSELoss.csv\", usecols=np.arange(1,22))\n",
    "nlo_results = get_expanded_df(nlo_results, optim=\"adam\")\n",
    "nlo_results.loc[nlo_results[\"mean_squared_error\"].idxmin()]"
   ]
  },
  {
   "cell_type": "markdown",
   "metadata": {},
   "source": [
    "## 3.2 L1"
   ]
  },
  {
   "cell_type": "code",
   "execution_count": 25,
   "metadata": {},
   "outputs": [
    {
     "data": {
      "text/plain": [
       "mean_squared_error                                 0.000137843\n",
       "date                                       2022-03-15_14-30-57\n",
       "hostname                        holy7c24401.rc.fas.harvard.edu\n",
       "seed                                                         2\n",
       "d_lr                                    0.00050559757595072818\n",
       "g_lr                                      0.016135911992710888\n",
       "gamma                                      0.99123626313892488\n",
       "g_betas               [0.2019346402168863, 0.9445348566539493]\n",
       "d_betas                [0.07560024869342562, 0.70241759885858]\n",
       "step_size                                                   20\n",
       "d_n_hidden_units                                            20\n",
       "g_n_hidden_units                                            40\n",
       "d_n_hidden_layers                                            2\n",
       "g_n_hidden_layers                                            3\n",
       "Name: 3, dtype: object"
      ]
     },
     "execution_count": 25,
     "metadata": {},
     "output_type": "execute_result"
    }
   ],
   "source": [
    "# Read in the first NLO results\n",
    "nlo_results = pd.read_csv(\"classical_results/ray_tune_nlo_L1Loss.csv\", usecols=np.arange(1,22))\n",
    "nlo_results = get_expanded_df(nlo_results, optim=\"adam\")\n",
    "nlo_results.loc[nlo_results[\"mean_squared_error\"].idxmin()]"
   ]
  },
  {
   "cell_type": "markdown",
   "metadata": {},
   "source": [
    "## 3.3 Huber"
   ]
  },
  {
   "cell_type": "code",
   "execution_count": 26,
   "metadata": {},
   "outputs": [
    {
     "data": {
      "text/plain": [
       "mean_squared_error                                  1.45709e-10\n",
       "date                                        2022-03-15_14-46-58\n",
       "hostname                         holy7c24401.rc.fas.harvard.edu\n",
       "seed                                                          6\n",
       "d_lr                                      0.0031221646163788852\n",
       "g_lr                                      0.0017296631326595539\n",
       "gamma                                       0.98498488568926723\n",
       "g_betas               [0.08783000910332427, 0.9926995801150367]\n",
       "d_betas               [0.10201458685483214, 0.7911442537985977]\n",
       "step_size                                                     6\n",
       "d_n_hidden_units                                             40\n",
       "g_n_hidden_units                                             50\n",
       "d_n_hidden_layers                                             3\n",
       "g_n_hidden_layers                                             5\n",
       "Name: 124, dtype: object"
      ]
     },
     "execution_count": 26,
     "metadata": {},
     "output_type": "execute_result"
    }
   ],
   "source": [
    "# Read in the first NLO results\n",
    "nlo_results = pd.read_csv(\"classical_results/ray_tune_nlo_SmoothL1Loss.csv\", usecols=np.arange(1,22))\n",
    "nlo_results = get_expanded_df(nlo_results, optim=\"adam\")\n",
    "nlo_results.loc[nlo_results[\"mean_squared_error\"].idxmin()]"
   ]
  },
  {
   "cell_type": "markdown",
   "metadata": {},
   "source": [
    "# 4. POS\n",
    "\n",
    "## 4.1 L2"
   ]
  },
  {
   "cell_type": "code",
   "execution_count": 28,
   "metadata": {},
   "outputs": [
    {
     "data": {
      "text/plain": [
       "mean_squared_error                                   1.4003e-10\n",
       "date                                        2022-03-15_14-54-29\n",
       "hostname                         holy7c24304.rc.fas.harvard.edu\n",
       "seed                                                          4\n",
       "d_lr                                       0.017959771526245775\n",
       "g_lr                                       0.011193423968088733\n",
       "gamma                                       0.94271382528618619\n",
       "g_betas               [0.05908725061529524, 0.8673581223588395]\n",
       "d_betas               [0.20984586474745626, 0.9287130645373443]\n",
       "step_size                                                    12\n",
       "d_n_hidden_units                                             20\n",
       "g_n_hidden_units                                             30\n",
       "d_n_hidden_layers                                             4\n",
       "g_n_hidden_layers                                             2\n",
       "Name: 97, dtype: object"
      ]
     },
     "execution_count": 28,
     "metadata": {},
     "output_type": "execute_result"
    }
   ],
   "source": [
    "# Read in the first POS results\n",
    "pos_results = pd.read_csv(\"classical_results/ray_tune_pos_MSELoss.csv\", usecols=np.arange(1,22))\n",
    "pos_results = get_expanded_df(pos_results, optim=\"adam\")\n",
    "pos_results.loc[pos_results[\"mean_squared_error\"].idxmin()]"
   ]
  },
  {
   "cell_type": "markdown",
   "metadata": {},
   "source": [
    "## 4.2 L1"
   ]
  },
  {
   "cell_type": "code",
   "execution_count": 29,
   "metadata": {},
   "outputs": [
    {
     "data": {
      "text/plain": [
       "mean_squared_error                                  9.39328e-06\n",
       "date                                        2022-03-15_15-04-45\n",
       "hostname                         holy7c24304.rc.fas.harvard.edu\n",
       "seed                                                          9\n",
       "d_lr                                      0.0072471212701768067\n",
       "g_lr                                       0.007817139511342594\n",
       "gamma                                       0.93213533835205242\n",
       "g_betas                [0.2696403474486619, 0.9860848390188193]\n",
       "d_betas               [0.07327190318329017, 0.8357632100613337]\n",
       "step_size                                                     8\n",
       "d_n_hidden_units                                             20\n",
       "g_n_hidden_units                                             50\n",
       "d_n_hidden_layers                                             4\n",
       "g_n_hidden_layers                                             4\n",
       "Name: 114, dtype: object"
      ]
     },
     "execution_count": 29,
     "metadata": {},
     "output_type": "execute_result"
    }
   ],
   "source": [
    "# Read in the first POS results\n",
    "pos_results = pd.read_csv(\"classical_results/ray_tune_pos_L1Loss.csv\", usecols=np.arange(1,22))\n",
    "pos_results = get_expanded_df(pos_results, optim=\"adam\")\n",
    "pos_results.loc[pos_results[\"mean_squared_error\"].idxmin()]"
   ]
  },
  {
   "cell_type": "markdown",
   "metadata": {},
   "source": [
    "## 4.3 Huber"
   ]
  },
  {
   "cell_type": "code",
   "execution_count": 30,
   "metadata": {},
   "outputs": [
    {
     "data": {
      "text/plain": [
       "mean_squared_error                                  1.51619e-10\n",
       "date                                        2022-03-15_15-15-11\n",
       "hostname                         holy7c24304.rc.fas.harvard.edu\n",
       "seed                                                          3\n",
       "d_lr                                      0.0068643724558994819\n",
       "g_lr                                      0.0055824955430016808\n",
       "gamma                                       0.90881459598615855\n",
       "g_betas                 [0.3006113383779244, 0.867007901138201]\n",
       "d_betas               [0.17466932684331452, 0.6755278202266661]\n",
       "step_size                                                    16\n",
       "d_n_hidden_units                                             50\n",
       "g_n_hidden_units                                             30\n",
       "d_n_hidden_layers                                             3\n",
       "g_n_hidden_layers                                             2\n",
       "Name: 132, dtype: object"
      ]
     },
     "execution_count": 30,
     "metadata": {},
     "output_type": "execute_result"
    }
   ],
   "source": [
    "# Read in the first POS results\n",
    "pos_results = pd.read_csv(\"classical_results/ray_tune_pos_SmoothL1Loss.csv\", usecols=np.arange(1,22))\n",
    "pos_results = get_expanded_df(pos_results, optim=\"adam\")\n",
    "pos_results.loc[pos_results[\"mean_squared_error\"].idxmin()]"
   ]
  },
  {
   "cell_type": "markdown",
   "metadata": {},
   "source": [
    "# 5. SIR\n",
    "\n",
    "## 5.1 L2"
   ]
  },
  {
   "cell_type": "code",
   "execution_count": 31,
   "metadata": {},
   "outputs": [
    {
     "data": {
      "text/plain": [
       "mean_squared_error                                   1.4003e-10\n",
       "date                                        2022-03-15_14-54-29\n",
       "hostname                         holy7c24304.rc.fas.harvard.edu\n",
       "seed                                                          4\n",
       "d_lr                                       0.017959771526245775\n",
       "g_lr                                       0.011193423968088733\n",
       "gamma                                       0.94271382528618619\n",
       "g_betas               [0.05908725061529524, 0.8673581223588395]\n",
       "d_betas               [0.20984586474745626, 0.9287130645373443]\n",
       "step_size                                                    12\n",
       "d_n_hidden_units                                             20\n",
       "g_n_hidden_units                                             30\n",
       "d_n_hidden_layers                                             4\n",
       "g_n_hidden_layers                                             2\n",
       "Name: 97, dtype: object"
      ]
     },
     "execution_count": 31,
     "metadata": {},
     "output_type": "execute_result"
    }
   ],
   "source": [
    "# Read in the SIR results\n",
    "sir_results = pd.read_csv(\"classical_results/ray_tune_pos_MSELoss.csv\", usecols=np.arange(1,22))\n",
    "sir_results = get_expanded_df(sir_results, optim=\"adam\")\n",
    "sir_results.loc[sir_results[\"mean_squared_error\"].idxmin()]"
   ]
  },
  {
   "cell_type": "markdown",
   "metadata": {},
   "source": [
    "## 5.2 L1"
   ]
  },
  {
   "cell_type": "code",
   "execution_count": 32,
   "metadata": {},
   "outputs": [
    {
     "data": {
      "text/plain": [
       "mean_squared_error                                  9.39328e-06\n",
       "date                                        2022-03-15_15-04-45\n",
       "hostname                         holy7c24304.rc.fas.harvard.edu\n",
       "seed                                                          9\n",
       "d_lr                                      0.0072471212701768067\n",
       "g_lr                                       0.007817139511342594\n",
       "gamma                                       0.93213533835205242\n",
       "g_betas                [0.2696403474486619, 0.9860848390188193]\n",
       "d_betas               [0.07327190318329017, 0.8357632100613337]\n",
       "step_size                                                     8\n",
       "d_n_hidden_units                                             20\n",
       "g_n_hidden_units                                             50\n",
       "d_n_hidden_layers                                             4\n",
       "g_n_hidden_layers                                             4\n",
       "Name: 114, dtype: object"
      ]
     },
     "execution_count": 32,
     "metadata": {},
     "output_type": "execute_result"
    }
   ],
   "source": [
    "# Read in the SIR results\n",
    "sir_results = pd.read_csv(\"classical_results/ray_tune_pos_L1Loss.csv\", usecols=np.arange(1,22))\n",
    "sir_results = get_expanded_df(sir_results, optim=\"adam\")\n",
    "sir_results.loc[sir_results[\"mean_squared_error\"].idxmin()]"
   ]
  },
  {
   "cell_type": "markdown",
   "metadata": {},
   "source": [
    "## 5.3 Huber"
   ]
  },
  {
   "cell_type": "code",
   "execution_count": 33,
   "metadata": {},
   "outputs": [
    {
     "data": {
      "text/plain": [
       "mean_squared_error                                  1.51619e-10\n",
       "date                                        2022-03-15_15-15-11\n",
       "hostname                         holy7c24304.rc.fas.harvard.edu\n",
       "seed                                                          3\n",
       "d_lr                                      0.0068643724558994819\n",
       "g_lr                                      0.0055824955430016808\n",
       "gamma                                       0.90881459598615855\n",
       "g_betas                 [0.3006113383779244, 0.867007901138201]\n",
       "d_betas               [0.17466932684331452, 0.6755278202266661]\n",
       "step_size                                                    16\n",
       "d_n_hidden_units                                             50\n",
       "g_n_hidden_units                                             30\n",
       "d_n_hidden_layers                                             3\n",
       "g_n_hidden_layers                                             2\n",
       "Name: 132, dtype: object"
      ]
     },
     "execution_count": 33,
     "metadata": {},
     "output_type": "execute_result"
    }
   ],
   "source": [
    "# Read in the SIR results\n",
    "sir_results = pd.read_csv(\"classical_results/ray_tune_pos_SmoothL1Loss.csv\", usecols=np.arange(1,22))\n",
    "sir_results = get_expanded_df(sir_results, optim=\"adam\")\n",
    "sir_results.loc[sir_results[\"mean_squared_error\"].idxmin()]"
   ]
  },
  {
   "cell_type": "markdown",
   "metadata": {},
   "source": [
    "# 6. COO\n",
    "\n",
    "## 6.1 L2"
   ]
  },
  {
   "cell_type": "code",
   "execution_count": 34,
   "metadata": {},
   "outputs": [
    {
     "data": {
      "text/plain": [
       "mean_squared_error                                  2.84311e-07\n",
       "date                                        2022-03-15_16-25-27\n",
       "hostname                         holy7c24401.rc.fas.harvard.edu\n",
       "seed                                                          3\n",
       "d_lr                                       0.016821084233699227\n",
       "g_lr                                     0.00034120745965572722\n",
       "gamma                                       0.99766896035885932\n",
       "g_betas               [0.22395595814116892, 0.9872786232130291]\n",
       "d_betas               [0.16171068799799587, 0.8545270451606666]\n",
       "step_size                                                    17\n",
       "d_n_hidden_units                                             40\n",
       "g_n_hidden_units                                             50\n",
       "d_n_hidden_layers                                             2\n",
       "g_n_hidden_layers                                             3\n",
       "Name: 178, dtype: object"
      ]
     },
     "execution_count": 34,
     "metadata": {},
     "output_type": "execute_result"
    }
   ],
   "source": [
    "# Read in the COO results\n",
    "coo_results = pd.read_csv(\"classical_results/ray_tune_coo_MSELoss.csv\", usecols=np.arange(1,22))\n",
    "coo_results = get_expanded_df(coo_results, optim=\"adam\")\n",
    "coo_results.loc[coo_results[\"mean_squared_error\"].idxmin()]"
   ]
  },
  {
   "cell_type": "code",
   "execution_count": 35,
   "metadata": {},
   "outputs": [
    {
     "data": {
      "text/plain": [
       "mean_squared_error                                     0.541137\n",
       "date                                        2022-03-15_16-40-57\n",
       "hostname                         holy7c24401.rc.fas.harvard.edu\n",
       "seed                                                          5\n",
       "d_lr                                      0.0020340456073678417\n",
       "g_lr                                      0.0085935731462449955\n",
       "gamma                                       0.97056402135198994\n",
       "g_betas               [0.09474357764650297, 0.8598391909289105]\n",
       "d_betas               [0.16471721585190355, 0.8167754867455241]\n",
       "step_size                                                     4\n",
       "d_n_hidden_units                                             50\n",
       "g_n_hidden_units                                             20\n",
       "d_n_hidden_layers                                             2\n",
       "g_n_hidden_layers                                             2\n",
       "Name: 142, dtype: object"
      ]
     },
     "execution_count": 35,
     "metadata": {},
     "output_type": "execute_result"
    }
   ],
   "source": [
    "# Read in the COO results\n",
    "coo_results = pd.read_csv(\"classical_results/ray_tune_coo_L1Loss.csv\", usecols=np.arange(1,22))\n",
    "coo_results = get_expanded_df(coo_results, optim=\"adam\")\n",
    "coo_results.loc[coo_results[\"mean_squared_error\"].idxmin()]"
   ]
  },
  {
   "cell_type": "code",
   "execution_count": 36,
   "metadata": {},
   "outputs": [
    {
     "data": {
      "text/plain": [
       "mean_squared_error                                   3.1224e-07\n",
       "date                                        2022-03-15_17-20-24\n",
       "hostname                         holy7c24401.rc.fas.harvard.edu\n",
       "seed                                                          7\n",
       "d_lr                                      0.0095599998204918078\n",
       "g_lr                                       0.019509577339306788\n",
       "gamma                                       0.99815883560751795\n",
       "g_betas               [0.15350151781527333, 0.7878688096570859]\n",
       "d_betas               [0.03476783931192041, 0.7636980059142577]\n",
       "step_size                                                    15\n",
       "d_n_hidden_units                                             30\n",
       "g_n_hidden_units                                             40\n",
       "d_n_hidden_layers                                             4\n",
       "g_n_hidden_layers                                             4\n",
       "Name: 82, dtype: object"
      ]
     },
     "execution_count": 36,
     "metadata": {},
     "output_type": "execute_result"
    }
   ],
   "source": [
    "# Read in the COO results\n",
    "coo_results = pd.read_csv(\"classical_results/ray_tune_coo_SmoothL1Loss.csv\", usecols=np.arange(1,22))\n",
    "coo_results = get_expanded_df(coo_results, optim=\"adam\")\n",
    "coo_results.loc[coo_results[\"mean_squared_error\"].idxmin()]"
   ]
  },
  {
   "cell_type": "markdown",
   "metadata": {},
   "source": [
    "# 7. WAV\n",
    "\n",
    "## 7.1 L2"
   ]
  },
  {
   "cell_type": "code",
   "execution_count": 37,
   "metadata": {},
   "outputs": [
    {
     "data": {
      "text/plain": [
       "mean_squared_error                                  6.10793e-07\n",
       "date                                        2022-03-15_17-48-35\n",
       "hostname                         holy7c24404.rc.fas.harvard.edu\n",
       "seed                                                          6\n",
       "d_lr                                      0.0065757617830373514\n",
       "g_lr                                       0.013816215479638938\n",
       "gamma                                       0.99346846982349934\n",
       "g_betas               [0.09065264061643237, 0.8968764927531144]\n",
       "d_betas               [0.02996252331721059, 0.6707534659706094]\n",
       "step_size                                                     7\n",
       "d_n_hidden_units                                             40\n",
       "g_n_hidden_units                                             40\n",
       "d_n_hidden_layers                                             4\n",
       "g_n_hidden_layers                                             2\n",
       "Name: 136, dtype: object"
      ]
     },
     "execution_count": 37,
     "metadata": {},
     "output_type": "execute_result"
    }
   ],
   "source": [
    "# Read in the WAV results\n",
    "wav_results = pd.read_csv(\"classical_results/ray_tune_wav_MSELoss.csv\", usecols=np.arange(1,22))\n",
    "wav_results = get_expanded_df(wav_results, optim=\"adam\")\n",
    "wav_results.loc[wav_results[\"mean_squared_error\"].idxmin()]"
   ]
  },
  {
   "cell_type": "markdown",
   "metadata": {},
   "source": [
    "## 7.2 L1"
   ]
  },
  {
   "cell_type": "code",
   "execution_count": 39,
   "metadata": {},
   "outputs": [
    {
     "data": {
      "text/plain": [
       "mean_squared_error                                    0.0004657\n",
       "date                                        2022-03-15_18-03-56\n",
       "hostname                         holy7c24404.rc.fas.harvard.edu\n",
       "seed                                                          2\n",
       "d_lr                                       0.001282459512594362\n",
       "g_lr                                       0.018560757807083259\n",
       "gamma                                       0.99384717026128189\n",
       "g_betas                [0.11615063247434658, 0.937875470395432]\n",
       "d_betas               [0.10238173755255711, 0.8280008663187798]\n",
       "step_size                                                     8\n",
       "d_n_hidden_units                                             40\n",
       "g_n_hidden_units                                             50\n",
       "d_n_hidden_layers                                             4\n",
       "g_n_hidden_layers                                             5\n",
       "Name: 136, dtype: object"
      ]
     },
     "execution_count": 39,
     "metadata": {},
     "output_type": "execute_result"
    }
   ],
   "source": [
    "# Read in the WAV results\n",
    "wav_results = pd.read_csv(\"classical_results/ray_tune_wav_L1Loss.csv\", usecols=np.arange(1,22))\n",
    "wav_results = get_expanded_df(wav_results, optim=\"adam\")\n",
    "wav_results.loc[wav_results[\"mean_squared_error\"].idxmin()]"
   ]
  },
  {
   "cell_type": "markdown",
   "metadata": {},
   "source": [
    "## 7.3 Huber"
   ]
  },
  {
   "cell_type": "code",
   "execution_count": 40,
   "metadata": {},
   "outputs": [
    {
     "data": {
      "text/plain": [
       "mean_squared_error                                   2.81389e-07\n",
       "date                                         2022-03-15_18-14-29\n",
       "hostname                          holy7c24404.rc.fas.harvard.edu\n",
       "seed                                                           0\n",
       "d_lr                                        0.018971909791831287\n",
       "g_lr                                       0.0046233575682293601\n",
       "gamma                                        0.98570241091170008\n",
       "g_betas               [0.009721396562610523, 0.7535189847954444]\n",
       "d_betas                 [0.2336385689688982, 0.9598593678903538]\n",
       "step_size                                                     15\n",
       "d_n_hidden_units                                              40\n",
       "g_n_hidden_units                                              50\n",
       "d_n_hidden_layers                                              4\n",
       "g_n_hidden_layers                                              5\n",
       "Name: 13, dtype: object"
      ]
     },
     "execution_count": 40,
     "metadata": {},
     "output_type": "execute_result"
    }
   ],
   "source": [
    "# Read in the WAV results\n",
    "wav_results = pd.read_csv(\"classical_results/ray_tune_wav_SmoothL1Loss.csv\", usecols=np.arange(1,22))\n",
    "wav_results = get_expanded_df(wav_results, optim=\"adam\")\n",
    "wav_results.loc[wav_results[\"mean_squared_error\"].idxmin()]"
   ]
  },
  {
   "cell_type": "markdown",
   "metadata": {},
   "source": [
    "# 8. BURV\n",
    "\n",
    "## 8.1 L2"
   ]
  },
  {
   "cell_type": "code",
   "execution_count": 41,
   "metadata": {},
   "outputs": [
    {
     "data": {
      "text/plain": [
       "mean_squared_error                                  0.000138748\n",
       "date                                        2022-03-15_18-27-33\n",
       "hostname                         holy7c24102.rc.fas.harvard.edu\n",
       "seed                                                          9\n",
       "d_lr                                     0.00050654443719511501\n",
       "g_lr                                       0.013391496636832775\n",
       "gamma                                       0.99146948206449215\n",
       "g_betas               [0.11978500799402188, 0.8293059214035681]\n",
       "d_betas                [0.0137788693942495, 0.8913425138441484]\n",
       "step_size                                                    14\n",
       "d_n_hidden_units                                             40\n",
       "g_n_hidden_units                                             50\n",
       "d_n_hidden_layers                                             5\n",
       "g_n_hidden_layers                                             4\n",
       "Name: 53, dtype: object"
      ]
     },
     "execution_count": 41,
     "metadata": {},
     "output_type": "execute_result"
    }
   ],
   "source": [
    "# Read in the BURV results\n",
    "burv_results = pd.read_csv(\"classical_results/ray_tune_burv_MSELoss.csv\", usecols=np.arange(1,22))\n",
    "burv_results = get_expanded_df(burv_results, optim=\"adam\")\n",
    "burv_results.loc[burv_results[\"mean_squared_error\"].idxmin()]"
   ]
  },
  {
   "cell_type": "code",
   "execution_count": 42,
   "metadata": {},
   "outputs": [
    {
     "data": {
      "text/plain": [
       "mean_squared_error                                   0.00175234\n",
       "date                                        2022-03-15_19-01-16\n",
       "hostname                         holy7c24102.rc.fas.harvard.edu\n",
       "seed                                                          4\n",
       "d_lr                                       0.014855311508696095\n",
       "g_lr                                      0.0044575994866025833\n",
       "gamma                                       0.97906363989530221\n",
       "g_betas               [0.20429427655131266, 0.9892358998841247]\n",
       "d_betas                [0.2142203129518682, 0.7951664512592199]\n",
       "step_size                                                    15\n",
       "d_n_hidden_units                                             20\n",
       "g_n_hidden_units                                             50\n",
       "d_n_hidden_layers                                             3\n",
       "g_n_hidden_layers                                             4\n",
       "Name: 165, dtype: object"
      ]
     },
     "execution_count": 42,
     "metadata": {},
     "output_type": "execute_result"
    }
   ],
   "source": [
    "# Read in the BURV results\n",
    "burv_results = pd.read_csv(\"classical_results/ray_tune_burv_L1Loss.csv\", usecols=np.arange(1,22))\n",
    "burv_results = get_expanded_df(burv_results, optim=\"adam\")\n",
    "burv_results.loc[burv_results[\"mean_squared_error\"].idxmin()]"
   ]
  },
  {
   "cell_type": "code",
   "execution_count": 43,
   "metadata": {},
   "outputs": [
    {
     "data": {
      "text/plain": [
       "mean_squared_error                                 9.44136e-05\n",
       "date                                       2022-03-15_19-25-04\n",
       "hostname                        holy7c24102.rc.fas.harvard.edu\n",
       "seed                                                         2\n",
       "d_lr                                    0.00056124536386726242\n",
       "g_lr                                       0.01526412112125624\n",
       "gamma                                      0.98753466629554609\n",
       "g_betas               [0.2368080488188987, 0.6900329210360248]\n",
       "d_betas                [0.1475522620084919, 0.953530294043536]\n",
       "step_size                                                    9\n",
       "d_n_hidden_units                                            20\n",
       "g_n_hidden_units                                            40\n",
       "d_n_hidden_layers                                            4\n",
       "g_n_hidden_layers                                            5\n",
       "Name: 106, dtype: object"
      ]
     },
     "execution_count": 43,
     "metadata": {},
     "output_type": "execute_result"
    }
   ],
   "source": [
    "# Read in the BURV results\n",
    "burv_results = pd.read_csv(\"classical_results/ray_tune_burv_SmoothL1Loss.csv\", usecols=np.arange(1,22))\n",
    "burv_results = get_expanded_df(burv_results, optim=\"adam\")\n",
    "burv_results.loc[burv_results[\"mean_squared_error\"].idxmin()]"
   ]
  },
  {
   "cell_type": "markdown",
   "metadata": {},
   "source": [
    "# 9. EINS\n",
    "\n",
    "## 9.1 L2"
   ]
  },
  {
   "cell_type": "code",
   "execution_count": 3,
   "metadata": {},
   "outputs": [
    {
     "data": {
      "text/plain": [
       "mean_squared_error                                    0.0243689\n",
       "date                                        2022-03-15_22-32-20\n",
       "hostname                         holy7c24503.rc.fas.harvard.edu\n",
       "seed                                                          5\n",
       "d_lr                                     0.00054592204924509813\n",
       "g_lr                                       0.015651765550030356\n",
       "gamma                                        0.9084080156243779\n",
       "g_betas                [0.3278484531625797, 0.9569560300463275]\n",
       "d_betas               [0.01810586599566555, 0.7760976169368717]\n",
       "step_size                                                     7\n",
       "d_n_hidden_units                                             20\n",
       "g_n_hidden_units                                             40\n",
       "d_n_hidden_layers                                             3\n",
       "g_n_hidden_layers                                             4\n",
       "Name: 38, dtype: object"
      ]
     },
     "execution_count": 3,
     "metadata": {},
     "output_type": "execute_result"
    }
   ],
   "source": [
    "# Read in the EINS results\n",
    "eins_results = pd.read_csv(\"classical_results/ray_tune_eins_MSELoss.csv\", usecols=np.arange(1,22))\n",
    "eins_results = get_expanded_df(eins_results, optim=\"adam\")\n",
    "eins_results.loc[eins_results[\"mean_squared_error\"].idxmin()]"
   ]
  },
  {
   "cell_type": "markdown",
   "metadata": {},
   "source": [
    "## 9.2 L1"
   ]
  },
  {
   "cell_type": "code",
   "execution_count": 4,
   "metadata": {},
   "outputs": [
    {
     "data": {
      "text/plain": [
       "mean_squared_error                                   0.0578004\n",
       "date                                       2022-03-15_23-32-46\n",
       "hostname                        holy7c24503.rc.fas.harvard.edu\n",
       "seed                                                         2\n",
       "d_lr                                     0.0072075600407168197\n",
       "g_lr                                     0.0044761573135886313\n",
       "gamma                                      0.90038443210143093\n",
       "g_betas               [0.2651217922263499, 0.8713242023842087]\n",
       "d_betas               [0.3140320415033071, 0.9871301484344451]\n",
       "step_size                                                   20\n",
       "d_n_hidden_units                                            30\n",
       "g_n_hidden_units                                            20\n",
       "d_n_hidden_layers                                            2\n",
       "g_n_hidden_layers                                            5\n",
       "Name: 67, dtype: object"
      ]
     },
     "execution_count": 4,
     "metadata": {},
     "output_type": "execute_result"
    }
   ],
   "source": [
    "# Read in the EINS results\n",
    "eins_results = pd.read_csv(\"classical_results/ray_tune_eins_L1Loss.csv\", usecols=np.arange(1,22))\n",
    "eins_results = get_expanded_df(eins_results, optim=\"adam\")\n",
    "eins_results.loc[eins_results[\"mean_squared_error\"].idxmin()]"
   ]
  },
  {
   "cell_type": "markdown",
   "metadata": {},
   "source": [
    "## 9.3 Huber"
   ]
  },
  {
   "cell_type": "code",
   "execution_count": 5,
   "metadata": {},
   "outputs": [
    {
     "data": {
      "text/plain": [
       "mean_squared_error                                    0.0119287\n",
       "date                                        2022-03-16_01-04-01\n",
       "hostname                         holy7c24503.rc.fas.harvard.edu\n",
       "seed                                                          2\n",
       "d_lr                                      0.0052266747729013746\n",
       "g_lr                                      0.0032874875413043654\n",
       "gamma                                       0.91962328976829422\n",
       "g_betas               [0.01317438914504253, 0.8572572799344018]\n",
       "d_betas                [0.1366958427855389, 0.6939722021645833]\n",
       "step_size                                                     6\n",
       "d_n_hidden_units                                             20\n",
       "g_n_hidden_units                                             40\n",
       "d_n_hidden_layers                                             5\n",
       "g_n_hidden_layers                                             4\n",
       "Name: 195, dtype: object"
      ]
     },
     "execution_count": 5,
     "metadata": {},
     "output_type": "execute_result"
    }
   ],
   "source": [
    "# Read in the EINS results\n",
    "eins_results = pd.read_csv(\"classical_results/ray_tune_eins_SmoothL1Loss.csv\", usecols=np.arange(1,22))\n",
    "eins_results = get_expanded_df(eins_results, optim=\"adam\")\n",
    "eins_results.loc[eins_results[\"mean_squared_error\"].idxmin()]"
   ]
  },
  {
   "cell_type": "markdown",
   "metadata": {},
   "source": [
    "# 10. HEA\n",
    "\n",
    "## 10.1 L2"
   ]
  },
  {
   "cell_type": "code",
   "execution_count": 44,
   "metadata": {},
   "outputs": [
    {
     "data": {
      "text/plain": [
       "mean_squared_error                                   4.06054e-08\n",
       "date                                         2022-03-15_22-24-44\n",
       "hostname                          holy7c24302.rc.fas.harvard.edu\n",
       "seed                                                           0\n",
       "d_lr                                        0.011766998769263511\n",
       "g_lr                                        0.011452866991177446\n",
       "gamma                                         0.9927042396991933\n",
       "g_betas                [0.09787518253758568, 0.6744606058542391]\n",
       "d_betas               [0.043345073526828405, 0.9544479706202283]\n",
       "step_size                                                      7\n",
       "d_n_hidden_units                                              30\n",
       "g_n_hidden_units                                              50\n",
       "d_n_hidden_layers                                              5\n",
       "g_n_hidden_layers                                              3\n",
       "Name: 18, dtype: object"
      ]
     },
     "execution_count": 44,
     "metadata": {},
     "output_type": "execute_result"
    }
   ],
   "source": [
    "# Read in the HEA results\n",
    "hea_results = pd.read_csv(\"classical_results/ray_tune_hea_MSELoss.csv\", usecols=np.arange(1,22))\n",
    "hea_results = get_expanded_df(hea_results, optim=\"adam\")\n",
    "hea_results.loc[hea_results[\"mean_squared_error\"].idxmin()]"
   ]
  },
  {
   "cell_type": "markdown",
   "metadata": {},
   "source": [
    "## 10.2 L1"
   ]
  },
  {
   "cell_type": "code",
   "execution_count": 45,
   "metadata": {},
   "outputs": [
    {
     "data": {
      "text/plain": [
       "mean_squared_error                                  0.000169207\n",
       "date                                        2022-03-15_22-37-44\n",
       "hostname                         holy7c24302.rc.fas.harvard.edu\n",
       "seed                                                          7\n",
       "d_lr                                        0.01494633283066788\n",
       "g_lr                                      0.0075860491856194869\n",
       "gamma                                       0.97092008999121848\n",
       "g_betas                [0.0366220046870521, 0.9157607003011348]\n",
       "d_betas               [0.11175353790149153, 0.8728324033109129]\n",
       "step_size                                                    20\n",
       "d_n_hidden_units                                             40\n",
       "g_n_hidden_units                                             50\n",
       "d_n_hidden_layers                                             2\n",
       "g_n_hidden_layers                                             2\n",
       "Name: 190, dtype: object"
      ]
     },
     "execution_count": 45,
     "metadata": {},
     "output_type": "execute_result"
    }
   ],
   "source": [
    "# Read in the HEA results\n",
    "hea_results = pd.read_csv(\"classical_results/ray_tune_hea_L1Loss.csv\", usecols=np.arange(1,22))\n",
    "hea_results = get_expanded_df(hea_results, optim=\"adam\")\n",
    "hea_results.loc[hea_results[\"mean_squared_error\"].idxmin()]"
   ]
  },
  {
   "cell_type": "markdown",
   "metadata": {},
   "source": [
    "## 10.3 Huber"
   ]
  },
  {
   "cell_type": "code",
   "execution_count": 46,
   "metadata": {},
   "outputs": [
    {
     "data": {
      "text/plain": [
       "mean_squared_error                                  2.30842e-08\n",
       "date                                        2022-03-15_22-45-04\n",
       "hostname                         holy7c24302.rc.fas.harvard.edu\n",
       "seed                                                          7\n",
       "d_lr                                       0.009083455861739885\n",
       "g_lr                                      0.0070004156190028007\n",
       "gamma                                       0.96863557435513437\n",
       "g_betas               [0.11940827221249413, 0.7180508670934431]\n",
       "d_betas                 [0.2435135680932003, 0.965176701754245]\n",
       "step_size                                                    10\n",
       "d_n_hidden_units                                             20\n",
       "g_n_hidden_units                                             50\n",
       "d_n_hidden_layers                                             4\n",
       "g_n_hidden_layers                                             4\n",
       "Name: 73, dtype: object"
      ]
     },
     "execution_count": 46,
     "metadata": {},
     "output_type": "execute_result"
    }
   ],
   "source": [
    "# Read in the HEA results\n",
    "hea_results = pd.read_csv(\"classical_results/ray_tune_hea_SmoothL1Loss.csv\", usecols=np.arange(1,22))\n",
    "hea_results = get_expanded_df(hea_results, optim=\"adam\")\n",
    "hea_results.loc[hea_results[\"mean_squared_error\"].idxmin()]"
   ]
  },
  {
   "cell_type": "markdown",
   "metadata": {},
   "source": [
    "# 11. ACA\n",
    "\n",
    "## 11.1 L2"
   ]
  },
  {
   "cell_type": "code",
   "execution_count": 6,
   "metadata": {},
   "outputs": [
    {
     "data": {
      "text/plain": [
       "mean_squared_error                                     0.0105075\n",
       "date                                         2022-03-16_10-08-56\n",
       "hostname                          holy7c24102.rc.fas.harvard.edu\n",
       "seed                                                           6\n",
       "d_lr                                       0.0092630235357480696\n",
       "g_lr                                       0.0048500037296834641\n",
       "gamma                                        0.99683849753079745\n",
       "g_betas                [0.27218549347819215, 0.8707436271946659]\n",
       "d_betas               [0.045357717680438045, 0.6812314685504909]\n",
       "step_size                                                      5\n",
       "d_n_hidden_units                                              20\n",
       "g_n_hidden_units                                              20\n",
       "d_n_hidden_layers                                              2\n",
       "g_n_hidden_layers                                              5\n",
       "lam                                           1.2329491581573497\n",
       "Name: 116, dtype: object"
      ]
     },
     "execution_count": 6,
     "metadata": {},
     "output_type": "execute_result"
    }
   ],
   "source": [
    "# Read in the ACA results with lambda tuning with no reparameterization\n",
    "aca_results = pd.read_csv(\"classical_results/ray_tune_aca_MSELoss.csv\", usecols=np.arange(1,22))\n",
    "aca_results = get_expanded_df(aca_results, optim=\"adam\", lam=True)\n",
    "aca_results.loc[aca_results[\"mean_squared_error\"].idxmin()]"
   ]
  },
  {
   "cell_type": "markdown",
   "metadata": {},
   "source": [
    "## 11.2 L1"
   ]
  },
  {
   "cell_type": "code",
   "execution_count": 7,
   "metadata": {},
   "outputs": [
    {
     "data": {
      "text/plain": [
       "mean_squared_error                                   0.0504081\n",
       "date                                       2022-03-16_13-22-38\n",
       "hostname                        holy7c24102.rc.fas.harvard.edu\n",
       "seed                                                         2\n",
       "d_lr                                      0.016701338390688859\n",
       "g_lr                                     0.0038304582878111353\n",
       "gamma                                      0.99142043338589414\n",
       "g_betas               [0.29603548221226555, 0.897728618892474]\n",
       "d_betas               [0.2956084580127263, 0.7863734810882368]\n",
       "step_size                                                    7\n",
       "d_n_hidden_units                                            30\n",
       "g_n_hidden_units                                            40\n",
       "d_n_hidden_layers                                            4\n",
       "g_n_hidden_layers                                            5\n",
       "lam                                         1.0518768255769018\n",
       "Name: 3, dtype: object"
      ]
     },
     "execution_count": 7,
     "metadata": {},
     "output_type": "execute_result"
    }
   ],
   "source": [
    "# Read in the ACA results with lambda tuning with no reparameterization\n",
    "aca_results = pd.read_csv(\"classical_results/ray_tune_aca_L1Loss.csv\", usecols=np.arange(1,22))\n",
    "aca_results = get_expanded_df(aca_results, optim=\"adam\", lam=True)\n",
    "aca_results.loc[aca_results[\"mean_squared_error\"].idxmin()]"
   ]
  },
  {
   "cell_type": "markdown",
   "metadata": {},
   "source": [
    "## 11.3 Huber"
   ]
  },
  {
   "cell_type": "code",
   "execution_count": 8,
   "metadata": {},
   "outputs": [
    {
     "data": {
      "text/plain": [
       "mean_squared_error                                    0.0031253\n",
       "date                                        2022-03-16_17-28-34\n",
       "hostname                         holy7c24402.rc.fas.harvard.edu\n",
       "seed                                                          3\n",
       "d_lr                                       0.011790447592709467\n",
       "g_lr                                      0.0055679181189701903\n",
       "gamma                                       0.99395341175393637\n",
       "g_betas               [0.15583328179997716, 0.8582490052093621]\n",
       "d_betas               [0.09457624953523017, 0.7619888601022959]\n",
       "step_size                                                    20\n",
       "d_n_hidden_units                                             20\n",
       "g_n_hidden_units                                             20\n",
       "d_n_hidden_layers                                             2\n",
       "g_n_hidden_layers                                             2\n",
       "lam                                          1.2876835878247825\n",
       "Name: 114, dtype: object"
      ]
     },
     "execution_count": 8,
     "metadata": {},
     "output_type": "execute_result"
    }
   ],
   "source": [
    "# Read in the ACA results with lambda tuning with no reparameterization\n",
    "aca_results = pd.read_csv(\"classical_results/ray_tune_aca_SmoothL1Loss.csv\", usecols=np.arange(1,22))\n",
    "aca_results = get_expanded_df(aca_results, optim=\"adam\", lam=True)\n",
    "aca_results.loc[aca_results[\"mean_squared_error\"].idxmin()]"
   ]
  },
  {
   "cell_type": "markdown",
   "metadata": {},
   "source": [
    "# 12. RAYS\n",
    "\n",
    "## 12.1 Regular GAN"
   ]
  },
  {
   "cell_type": "code",
   "execution_count": 38,
   "metadata": {},
   "outputs": [
    {
     "data": {
      "text/html": [
       "<div>\n",
       "<style scoped>\n",
       "    .dataframe tbody tr th:only-of-type {\n",
       "        vertical-align: middle;\n",
       "    }\n",
       "\n",
       "    .dataframe tbody tr th {\n",
       "        vertical-align: top;\n",
       "    }\n",
       "\n",
       "    .dataframe thead th {\n",
       "        text-align: right;\n",
       "    }\n",
       "</style>\n",
       "<table border=\"1\" class=\"dataframe\">\n",
       "  <thead>\n",
       "    <tr style=\"text-align: right;\">\n",
       "      <th></th>\n",
       "      <th>mean_squared_error</th>\n",
       "      <th>date</th>\n",
       "      <th>hostname</th>\n",
       "      <th>seed</th>\n",
       "      <th>d_lr</th>\n",
       "      <th>g_lr</th>\n",
       "      <th>gamma</th>\n",
       "      <th>g_betas</th>\n",
       "      <th>d_betas</th>\n",
       "      <th>step_size</th>\n",
       "      <th>d_n_hidden_units</th>\n",
       "      <th>g_n_hidden_units</th>\n",
       "      <th>d_n_hidden_layers</th>\n",
       "      <th>g_n_hidden_layers</th>\n",
       "    </tr>\n",
       "  </thead>\n",
       "  <tbody>\n",
       "    <tr>\n",
       "      <th>487</th>\n",
       "      <td>7.754963e-08</td>\n",
       "      <td>2022-02-15_09-12-30</td>\n",
       "      <td>holy7c24303.rc.fas.harvard.edu</td>\n",
       "      <td>2</td>\n",
       "      <td>0.0041272976272267361</td>\n",
       "      <td>0.0093581768678081979</td>\n",
       "      <td>0.97893579812771658</td>\n",
       "      <td>[0.21932425228717567, 0.7154610394492373]</td>\n",
       "      <td>[0.15260135969704555, 0.7677411091156993]</td>\n",
       "      <td>13</td>\n",
       "      <td>20</td>\n",
       "      <td>50</td>\n",
       "      <td>2</td>\n",
       "      <td>2</td>\n",
       "    </tr>\n",
       "  </tbody>\n",
       "</table>\n",
       "</div>"
      ],
      "text/plain": [
       "     mean_squared_error                 date                        hostname  \\\n",
       "487        7.754963e-08  2022-02-15_09-12-30  holy7c24303.rc.fas.harvard.edu   \n",
       "\n",
       "     seed                   d_lr                   g_lr                gamma  \\\n",
       "487     2  0.0041272976272267361  0.0093581768678081979  0.97893579812771658   \n",
       "\n",
       "                                       g_betas  \\\n",
       "487  [0.21932425228717567, 0.7154610394492373]   \n",
       "\n",
       "                                       d_betas  step_size  d_n_hidden_units  \\\n",
       "487  [0.15260135969704555, 0.7677411091156993]         13                20   \n",
       "\n",
       "     g_n_hidden_units  d_n_hidden_layers  g_n_hidden_layers  \n",
       "487                50                  2                  2  "
      ]
     },
     "execution_count": 38,
     "metadata": {},
     "output_type": "execute_result"
    }
   ],
   "source": [
    "# Read in the RAYS results\n",
    "rays_results = pd.read_csv(\"gan_results/ray_tune_rays_fixed.csv\", usecols=np.arange(1,22))\n",
    "rays_results = get_expanded_df(rays_results, optim=\"adam\")\n",
    "rays_results.loc[rays_results.groupby(\"seed\")[\"mean_squared_error\"].idxmin()]"
   ]
  },
  {
   "cell_type": "code",
   "execution_count": null,
   "metadata": {},
   "outputs": [],
   "source": []
  }
 ],
 "metadata": {
  "kernelspec": {
   "display_name": "Python 3",
   "language": "python",
   "name": "python3"
  },
  "language_info": {
   "codemirror_mode": {
    "name": "ipython",
    "version": 3
   },
   "file_extension": ".py",
   "mimetype": "text/x-python",
   "name": "python",
   "nbconvert_exporter": "python",
   "pygments_lexer": "ipython3",
   "version": "3.8.3"
  }
 },
 "nbformat": 4,
 "nbformat_minor": 4
}
